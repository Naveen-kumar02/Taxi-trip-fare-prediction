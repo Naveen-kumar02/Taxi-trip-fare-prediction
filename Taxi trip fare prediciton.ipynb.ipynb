{
  "cells": [
    {
      "cell_type": "code",
      "execution_count": 1,
      "metadata": {
        "id": "a7dEwyJc3QQr"
      },
      "outputs": [],
      "source": [
        "import pandas as pd\n",
        "import numpy as np\n",
        "import matplotlib.pyplot as plt\n",
        "import seaborn as sns\n",
        "from sklearn.model_selection import train_test_split\n",
        "from sklearn.preprocessing import StandardScaler\n",
        "from sklearn.linear_model import LinearRegression\n",
        "from sklearn.neighbors import KNeighborsRegressor\n",
        "from sklearn.tree import DecisionTreeRegressor\n",
        "from sklearn.ensemble import RandomForestRegressor\n",
        "import xgboost as xgb\n",
        "from sklearn.metrics import r2_score\n",
        "from sklearn.model_selection import cross_val_score\n",
        "from sklearn.metrics import mean_squared_error"
      ]
    },
    {
      "cell_type": "code",
      "execution_count": 2,
      "metadata": {
        "id": "7QXSutuj3ndD"
      },
      "outputs": [],
      "source": [
        "df=pd.read_csv('train.csv')"
      ]
    },
    {
      "cell_type": "code",
      "execution_count": 3,
      "metadata": {
        "colab": {
          "base_uri": "https://localhost:8080/",
          "height": 226
        },
        "id": "9bpkOunz30Nk",
        "outputId": "c0113e8e-99c3-4962-cf3a-77f80a237009"
      },
      "outputs": [
        {
          "data": {
            "text/html": [
              "\n",
              "  <div id=\"df-e9d3dd52-b958-4f4f-95d3-53746cfafea4\" class=\"colab-df-container\">\n",
              "    <div>\n",
              "<style scoped>\n",
              "    .dataframe tbody tr th:only-of-type {\n",
              "        vertical-align: middle;\n",
              "    }\n",
              "\n",
              "    .dataframe tbody tr th {\n",
              "        vertical-align: top;\n",
              "    }\n",
              "\n",
              "    .dataframe thead th {\n",
              "        text-align: right;\n",
              "    }\n",
              "</style>\n",
              "<table border=\"1\" class=\"dataframe\">\n",
              "  <thead>\n",
              "    <tr style=\"text-align: right;\">\n",
              "      <th></th>\n",
              "      <th>trip_duration</th>\n",
              "      <th>distance_traveled</th>\n",
              "      <th>num_of_passengers</th>\n",
              "      <th>fare</th>\n",
              "      <th>tip</th>\n",
              "      <th>miscellaneous_fees</th>\n",
              "      <th>total_fare</th>\n",
              "      <th>surge_applied</th>\n",
              "    </tr>\n",
              "  </thead>\n",
              "  <tbody>\n",
              "    <tr>\n",
              "      <th>0</th>\n",
              "      <td>748.0</td>\n",
              "      <td>2.75</td>\n",
              "      <td>1.0</td>\n",
              "      <td>75.00</td>\n",
              "      <td>24</td>\n",
              "      <td>6.300</td>\n",
              "      <td>105.300</td>\n",
              "      <td>0</td>\n",
              "    </tr>\n",
              "    <tr>\n",
              "      <th>1</th>\n",
              "      <td>1187.0</td>\n",
              "      <td>3.43</td>\n",
              "      <td>1.0</td>\n",
              "      <td>105.00</td>\n",
              "      <td>24</td>\n",
              "      <td>13.200</td>\n",
              "      <td>142.200</td>\n",
              "      <td>0</td>\n",
              "    </tr>\n",
              "    <tr>\n",
              "      <th>2</th>\n",
              "      <td>730.0</td>\n",
              "      <td>3.12</td>\n",
              "      <td>1.0</td>\n",
              "      <td>71.25</td>\n",
              "      <td>0</td>\n",
              "      <td>26.625</td>\n",
              "      <td>97.875</td>\n",
              "      <td>1</td>\n",
              "    </tr>\n",
              "    <tr>\n",
              "      <th>3</th>\n",
              "      <td>671.0</td>\n",
              "      <td>5.63</td>\n",
              "      <td>3.0</td>\n",
              "      <td>90.00</td>\n",
              "      <td>0</td>\n",
              "      <td>9.750</td>\n",
              "      <td>99.750</td>\n",
              "      <td>0</td>\n",
              "    </tr>\n",
              "    <tr>\n",
              "      <th>4</th>\n",
              "      <td>329.0</td>\n",
              "      <td>2.09</td>\n",
              "      <td>1.0</td>\n",
              "      <td>45.00</td>\n",
              "      <td>12</td>\n",
              "      <td>13.200</td>\n",
              "      <td>70.200</td>\n",
              "      <td>0</td>\n",
              "    </tr>\n",
              "  </tbody>\n",
              "</table>\n",
              "</div>\n",
              "    <div class=\"colab-df-buttons\">\n",
              "\n",
              "  <div class=\"colab-df-container\">\n",
              "    <button class=\"colab-df-convert\" onclick=\"convertToInteractive('df-e9d3dd52-b958-4f4f-95d3-53746cfafea4')\"\n",
              "            title=\"Convert this dataframe to an interactive table.\"\n",
              "            style=\"display:none;\">\n",
              "\n",
              "  <svg xmlns=\"http://www.w3.org/2000/svg\" height=\"24px\" viewBox=\"0 -960 960 960\">\n",
              "    <path d=\"M120-120v-720h720v720H120Zm60-500h600v-160H180v160Zm220 220h160v-160H400v160Zm0 220h160v-160H400v160ZM180-400h160v-160H180v160Zm440 0h160v-160H620v160ZM180-180h160v-160H180v160Zm440 0h160v-160H620v160Z\"/>\n",
              "  </svg>\n",
              "    </button>\n",
              "\n",
              "  <style>\n",
              "    .colab-df-container {\n",
              "      display:flex;\n",
              "      gap: 12px;\n",
              "    }\n",
              "\n",
              "    .colab-df-convert {\n",
              "      background-color: #E8F0FE;\n",
              "      border: none;\n",
              "      border-radius: 50%;\n",
              "      cursor: pointer;\n",
              "      display: none;\n",
              "      fill: #1967D2;\n",
              "      height: 32px;\n",
              "      padding: 0 0 0 0;\n",
              "      width: 32px;\n",
              "    }\n",
              "\n",
              "    .colab-df-convert:hover {\n",
              "      background-color: #E2EBFA;\n",
              "      box-shadow: 0px 1px 2px rgba(60, 64, 67, 0.3), 0px 1px 3px 1px rgba(60, 64, 67, 0.15);\n",
              "      fill: #174EA6;\n",
              "    }\n",
              "\n",
              "    .colab-df-buttons div {\n",
              "      margin-bottom: 4px;\n",
              "    }\n",
              "\n",
              "    [theme=dark] .colab-df-convert {\n",
              "      background-color: #3B4455;\n",
              "      fill: #D2E3FC;\n",
              "    }\n",
              "\n",
              "    [theme=dark] .colab-df-convert:hover {\n",
              "      background-color: #434B5C;\n",
              "      box-shadow: 0px 1px 3px 1px rgba(0, 0, 0, 0.15);\n",
              "      filter: drop-shadow(0px 1px 2px rgba(0, 0, 0, 0.3));\n",
              "      fill: #FFFFFF;\n",
              "    }\n",
              "  </style>\n",
              "\n",
              "    <script>\n",
              "      const buttonEl =\n",
              "        document.querySelector('#df-e9d3dd52-b958-4f4f-95d3-53746cfafea4 button.colab-df-convert');\n",
              "      buttonEl.style.display =\n",
              "        google.colab.kernel.accessAllowed ? 'block' : 'none';\n",
              "\n",
              "      async function convertToInteractive(key) {\n",
              "        const element = document.querySelector('#df-e9d3dd52-b958-4f4f-95d3-53746cfafea4');\n",
              "        const dataTable =\n",
              "          await google.colab.kernel.invokeFunction('convertToInteractive',\n",
              "                                                    [key], {});\n",
              "        if (!dataTable) return;\n",
              "\n",
              "        const docLinkHtml = 'Like what you see? Visit the ' +\n",
              "          '<a target=\"_blank\" href=https://colab.research.google.com/notebooks/data_table.ipynb>data table notebook</a>'\n",
              "          + ' to learn more about interactive tables.';\n",
              "        element.innerHTML = '';\n",
              "        dataTable['output_type'] = 'display_data';\n",
              "        await google.colab.output.renderOutput(dataTable, element);\n",
              "        const docLink = document.createElement('div');\n",
              "        docLink.innerHTML = docLinkHtml;\n",
              "        element.appendChild(docLink);\n",
              "      }\n",
              "    </script>\n",
              "  </div>\n",
              "\n",
              "\n",
              "<div id=\"df-24f17f78-ec48-488b-a976-60d0464d2e2b\">\n",
              "  <button class=\"colab-df-quickchart\" onclick=\"quickchart('df-24f17f78-ec48-488b-a976-60d0464d2e2b')\"\n",
              "            title=\"Suggest charts.\"\n",
              "            style=\"display:none;\">\n",
              "\n",
              "<svg xmlns=\"http://www.w3.org/2000/svg\" height=\"24px\"viewBox=\"0 0 24 24\"\n",
              "     width=\"24px\">\n",
              "    <g>\n",
              "        <path d=\"M19 3H5c-1.1 0-2 .9-2 2v14c0 1.1.9 2 2 2h14c1.1 0 2-.9 2-2V5c0-1.1-.9-2-2-2zM9 17H7v-7h2v7zm4 0h-2V7h2v10zm4 0h-2v-4h2v4z\"/>\n",
              "    </g>\n",
              "</svg>\n",
              "  </button>\n",
              "\n",
              "<style>\n",
              "  .colab-df-quickchart {\n",
              "      --bg-color: #E8F0FE;\n",
              "      --fill-color: #1967D2;\n",
              "      --hover-bg-color: #E2EBFA;\n",
              "      --hover-fill-color: #174EA6;\n",
              "      --disabled-fill-color: #AAA;\n",
              "      --disabled-bg-color: #DDD;\n",
              "  }\n",
              "\n",
              "  [theme=dark] .colab-df-quickchart {\n",
              "      --bg-color: #3B4455;\n",
              "      --fill-color: #D2E3FC;\n",
              "      --hover-bg-color: #434B5C;\n",
              "      --hover-fill-color: #FFFFFF;\n",
              "      --disabled-bg-color: #3B4455;\n",
              "      --disabled-fill-color: #666;\n",
              "  }\n",
              "\n",
              "  .colab-df-quickchart {\n",
              "    background-color: var(--bg-color);\n",
              "    border: none;\n",
              "    border-radius: 50%;\n",
              "    cursor: pointer;\n",
              "    display: none;\n",
              "    fill: var(--fill-color);\n",
              "    height: 32px;\n",
              "    padding: 0;\n",
              "    width: 32px;\n",
              "  }\n",
              "\n",
              "  .colab-df-quickchart:hover {\n",
              "    background-color: var(--hover-bg-color);\n",
              "    box-shadow: 0 1px 2px rgba(60, 64, 67, 0.3), 0 1px 3px 1px rgba(60, 64, 67, 0.15);\n",
              "    fill: var(--button-hover-fill-color);\n",
              "  }\n",
              "\n",
              "  .colab-df-quickchart-complete:disabled,\n",
              "  .colab-df-quickchart-complete:disabled:hover {\n",
              "    background-color: var(--disabled-bg-color);\n",
              "    fill: var(--disabled-fill-color);\n",
              "    box-shadow: none;\n",
              "  }\n",
              "\n",
              "  .colab-df-spinner {\n",
              "    border: 2px solid var(--fill-color);\n",
              "    border-color: transparent;\n",
              "    border-bottom-color: var(--fill-color);\n",
              "    animation:\n",
              "      spin 1s steps(1) infinite;\n",
              "  }\n",
              "\n",
              "  @keyframes spin {\n",
              "    0% {\n",
              "      border-color: transparent;\n",
              "      border-bottom-color: var(--fill-color);\n",
              "      border-left-color: var(--fill-color);\n",
              "    }\n",
              "    20% {\n",
              "      border-color: transparent;\n",
              "      border-left-color: var(--fill-color);\n",
              "      border-top-color: var(--fill-color);\n",
              "    }\n",
              "    30% {\n",
              "      border-color: transparent;\n",
              "      border-left-color: var(--fill-color);\n",
              "      border-top-color: var(--fill-color);\n",
              "      border-right-color: var(--fill-color);\n",
              "    }\n",
              "    40% {\n",
              "      border-color: transparent;\n",
              "      border-right-color: var(--fill-color);\n",
              "      border-top-color: var(--fill-color);\n",
              "    }\n",
              "    60% {\n",
              "      border-color: transparent;\n",
              "      border-right-color: var(--fill-color);\n",
              "    }\n",
              "    80% {\n",
              "      border-color: transparent;\n",
              "      border-right-color: var(--fill-color);\n",
              "      border-bottom-color: var(--fill-color);\n",
              "    }\n",
              "    90% {\n",
              "      border-color: transparent;\n",
              "      border-bottom-color: var(--fill-color);\n",
              "    }\n",
              "  }\n",
              "</style>\n",
              "\n",
              "  <script>\n",
              "    async function quickchart(key) {\n",
              "      const quickchartButtonEl =\n",
              "        document.querySelector('#' + key + ' button');\n",
              "      quickchartButtonEl.disabled = true;  // To prevent multiple clicks.\n",
              "      quickchartButtonEl.classList.add('colab-df-spinner');\n",
              "      try {\n",
              "        const charts = await google.colab.kernel.invokeFunction(\n",
              "            'suggestCharts', [key], {});\n",
              "      } catch (error) {\n",
              "        console.error('Error during call to suggestCharts:', error);\n",
              "      }\n",
              "      quickchartButtonEl.classList.remove('colab-df-spinner');\n",
              "      quickchartButtonEl.classList.add('colab-df-quickchart-complete');\n",
              "    }\n",
              "    (() => {\n",
              "      let quickchartButtonEl =\n",
              "        document.querySelector('#df-24f17f78-ec48-488b-a976-60d0464d2e2b button');\n",
              "      quickchartButtonEl.style.display =\n",
              "        google.colab.kernel.accessAllowed ? 'block' : 'none';\n",
              "    })();\n",
              "  </script>\n",
              "</div>\n",
              "    </div>\n",
              "  </div>\n"
            ],
            "text/plain": [
              "   trip_duration  distance_traveled  num_of_passengers    fare  tip  \\\n",
              "0          748.0               2.75                1.0   75.00   24   \n",
              "1         1187.0               3.43                1.0  105.00   24   \n",
              "2          730.0               3.12                1.0   71.25    0   \n",
              "3          671.0               5.63                3.0   90.00    0   \n",
              "4          329.0               2.09                1.0   45.00   12   \n",
              "\n",
              "   miscellaneous_fees  total_fare  surge_applied  \n",
              "0               6.300     105.300              0  \n",
              "1              13.200     142.200              0  \n",
              "2              26.625      97.875              1  \n",
              "3               9.750      99.750              0  \n",
              "4              13.200      70.200              0  "
            ]
          },
          "execution_count": 3,
          "metadata": {},
          "output_type": "execute_result"
        }
      ],
      "source": [
        "df.head()"
      ]
    },
    {
      "cell_type": "code",
      "execution_count": 4,
      "metadata": {
        "colab": {
          "base_uri": "https://localhost:8080/"
        },
        "id": "1CAafXKY33UQ",
        "outputId": "72093c1b-d6f1-4f5b-9d0d-ca246517dedd"
      },
      "outputs": [
        {
          "name": "stdout",
          "output_type": "stream",
          "text": [
            "<class 'pandas.core.frame.DataFrame'>\n",
            "RangeIndex: 209673 entries, 0 to 209672\n",
            "Data columns (total 8 columns):\n",
            " #   Column              Non-Null Count   Dtype  \n",
            "---  ------              --------------   -----  \n",
            " 0   trip_duration       209673 non-null  float64\n",
            " 1   distance_traveled   209673 non-null  float64\n",
            " 2   num_of_passengers   209673 non-null  float64\n",
            " 3   fare                209673 non-null  float64\n",
            " 4   tip                 209673 non-null  int64  \n",
            " 5   miscellaneous_fees  209673 non-null  float64\n",
            " 6   total_fare          209673 non-null  float64\n",
            " 7   surge_applied       209673 non-null  int64  \n",
            "dtypes: float64(6), int64(2)\n",
            "memory usage: 12.8 MB\n"
          ]
        }
      ],
      "source": [
        "df.info()"
      ]
    },
    {
      "cell_type": "code",
      "execution_count": 5,
      "metadata": {
        "colab": {
          "base_uri": "https://localhost:8080/"
        },
        "id": "xXMg19gQ37Fg",
        "outputId": "08eef14f-efe1-4a26-d7fe-c08fb93f79f6"
      },
      "outputs": [
        {
          "data": {
            "text/plain": [
              "Index(['trip_duration', 'distance_traveled', 'num_of_passengers', 'fare',\n",
              "       'tip', 'miscellaneous_fees', 'total_fare', 'surge_applied'],\n",
              "      dtype='object')"
            ]
          },
          "execution_count": 5,
          "metadata": {},
          "output_type": "execute_result"
        }
      ],
      "source": [
        "df.columns"
      ]
    },
    {
      "cell_type": "code",
      "execution_count": 6,
      "metadata": {
        "colab": {
          "base_uri": "https://localhost:8080/"
        },
        "id": "obSNlUB43-8C",
        "outputId": "3d23e5c5-4381-4191-dad2-82d6686dc094"
      },
      "outputs": [
        {
          "data": {
            "text/plain": [
              "(209673, 8)"
            ]
          },
          "execution_count": 6,
          "metadata": {},
          "output_type": "execute_result"
        }
      ],
      "source": [
        "df.shape"
      ]
    },
    {
      "cell_type": "code",
      "execution_count": 7,
      "metadata": {
        "colab": {
          "base_uri": "https://localhost:8080/"
        },
        "id": "hcKsU7ye4CQp",
        "outputId": "f77a8d33-9504-4ee9-d5f8-700daaa115f6"
      },
      "outputs": [
        {
          "data": {
            "text/plain": [
              "0"
            ]
          },
          "execution_count": 7,
          "metadata": {},
          "output_type": "execute_result"
        }
      ],
      "source": [
        "#trip_duration - How long did the journey last?[in Seconds]\n",
        "df['trip_duration'].isnull().sum()"
      ]
    },
    {
      "cell_type": "code",
      "execution_count": 8,
      "metadata": {
        "id": "Ida5p70R4NXR"
      },
      "outputs": [],
      "source": [
        "df['trip_duration']=df['trip_duration'].astype(int)"
      ]
    },
    {
      "cell_type": "code",
      "execution_count": 9,
      "metadata": {
        "colab": {
          "base_uri": "https://localhost:8080/"
        },
        "id": "r3mxJ0hv4bjr",
        "outputId": "91b5fa28-fcfd-4bda-8f5b-30c7c02ed465"
      },
      "outputs": [
        {
          "data": {
            "text/plain": [
              "count    209673.000000\n",
              "mean       1173.181478\n",
              "std        4775.653621\n",
              "min           0.000000\n",
              "25%         446.000000\n",
              "50%         707.000000\n",
              "75%        1098.000000\n",
              "max       86387.000000\n",
              "Name: trip_duration, dtype: float64"
            ]
          },
          "execution_count": 9,
          "metadata": {},
          "output_type": "execute_result"
        }
      ],
      "source": [
        "df['trip_duration'].describe()"
      ]
    },
    {
      "cell_type": "code",
      "execution_count": 10,
      "metadata": {
        "colab": {
          "base_uri": "https://localhost:8080/"
        },
        "id": "61CGldFB7Y6Q",
        "outputId": "5e45ee3c-e9c6-46b9-82e9-533193f412c8"
      },
      "outputs": [
        {
          "data": {
            "text/plain": [
              "0"
            ]
          },
          "execution_count": 10,
          "metadata": {},
          "output_type": "execute_result"
        }
      ],
      "source": [
        "#distance_traveled - How far did the taxi travel?[in Km]\n",
        "df['distance_traveled'].isnull().sum()"
      ]
    },
    {
      "cell_type": "code",
      "execution_count": 11,
      "metadata": {
        "colab": {
          "base_uri": "https://localhost:8080/"
        },
        "id": "IaVVCQ4Q89U5",
        "outputId": "bf7949af-ed81-4b8c-ceb9-af99e16aadcb"
      },
      "outputs": [
        {
          "data": {
            "text/plain": [
              "count    209673.000000\n",
              "mean          5.054431\n",
              "std         125.217419\n",
              "min           0.020000\n",
              "25%           1.950000\n",
              "50%           3.200000\n",
              "75%           5.730000\n",
              "max       57283.910000\n",
              "Name: distance_traveled, dtype: float64"
            ]
          },
          "execution_count": 11,
          "metadata": {},
          "output_type": "execute_result"
        }
      ],
      "source": [
        "df['distance_traveled'].describe()"
      ]
    },
    {
      "cell_type": "code",
      "execution_count": 12,
      "metadata": {
        "colab": {
          "base_uri": "https://localhost:8080/",
          "height": 564
        },
        "id": "YsVGYZRl9xCe",
        "outputId": "eef9bd8c-58bf-45a2-ec29-05952cea78a9"
      },
      "outputs": [
        {
          "data": {
            "image/png": "[encoded data removed]",
            "text/plain": [
              "<Figure size 800x600 with 1 Axes>"
            ]
          },
          "metadata": {},
          "output_type": "display_data"
        }
      ],
      "source": [
        "#to find outliers\n",
        "plt.figure(figsize=(8, 6))\n",
        "plt.boxplot(df['distance_traveled'], vert=False)\n",
        "plt.xlabel('distance_traveled')\n",
        "plt.title('Box Plot for Outlier Detection')\n",
        "plt.show()"
      ]
    },
    {
      "cell_type": "code",
      "execution_count": 13,
      "metadata": {
        "colab": {
          "base_uri": "https://localhost:8080/"
        },
        "id": "U_nbUZIm99RI",
        "outputId": "fd2d7275-1bb0-4bc2-c575-44ea7b08a449"
      },
      "outputs": [
        {
          "name": "stdout",
          "output_type": "stream",
          "text": [
            "4\n",
            "7.0\n",
            "11.0\n"
          ]
        }
      ],
      "source": [
        "q1=1\n",
        "q3=5\n",
        "iqr=q3-q1\n",
        "print(iqr)\n",
        "lower_limit=q1+(1.5*iqr)\n",
        "upper_limit=q3+(1.5*iqr)\n",
        "print(lower_limit)\n",
        "print(upper_limit)"
      ]
    },
    {
      "cell_type": "code",
      "execution_count": 14,
      "metadata": {
        "id": "cYVNGr8NGcbq"
      },
      "outputs": [],
      "source": [
        "df['distance_traveled'] = df['distance_traveled'].apply(lambda x: min(x,upper_limit))"
      ]
    },
    {
      "cell_type": "code",
      "execution_count": 15,
      "metadata": {
        "colab": {
          "base_uri": "https://localhost:8080/"
        },
        "id": "aZsYOSjyG3qr",
        "outputId": "588f8336-2b96-4270-9b39-01b04b80b492"
      },
      "outputs": [
        {
          "data": {
            "text/plain": [
              "count    209673.000000\n",
              "mean          4.250519\n",
              "std           3.094836\n",
              "min           0.020000\n",
              "25%           1.950000\n",
              "50%           3.200000\n",
              "75%           5.730000\n",
              "max          11.000000\n",
              "Name: distance_traveled, dtype: float64"
            ]
          },
          "execution_count": 15,
          "metadata": {},
          "output_type": "execute_result"
        }
      ],
      "source": [
        "df['distance_traveled'].describe()"
      ]
    },
    {
      "cell_type": "code",
      "execution_count": 16,
      "metadata": {
        "id": "oenltezXD9yQ"
      },
      "outputs": [],
      "source": [
        "df['distance_traveled']=df['distance_traveled'].astype(int)"
      ]
    },
    {
      "cell_type": "code",
      "execution_count": 17,
      "metadata": {
        "colab": {
          "base_uri": "https://localhost:8080/"
        },
        "id": "Vy9JO07799kP",
        "outputId": "a822edc0-b92b-4dcc-cdad-7193776241b6"
      },
      "outputs": [
        {
          "data": {
            "text/plain": [
              "0"
            ]
          },
          "execution_count": 17,
          "metadata": {},
          "output_type": "execute_result"
        }
      ],
      "source": [
        "#num_of_passengers\n",
        "df['num_of_passengers'].isnull().sum()"
      ]
    },
    {
      "cell_type": "code",
      "execution_count": 18,
      "metadata": {
        "colab": {
          "base_uri": "https://localhost:8080/"
        },
        "id": "yCiQbYvN-nAP",
        "outputId": "d72d169d-fc46-4c49-a14a-59496e6541c8"
      },
      "outputs": [
        {
          "data": {
            "text/plain": [
              "count    209673.000000\n",
              "mean          1.292808\n",
              "std           0.930754\n",
              "min           0.000000\n",
              "25%           1.000000\n",
              "50%           1.000000\n",
              "75%           1.000000\n",
              "max           9.000000\n",
              "Name: num_of_passengers, dtype: float64"
            ]
          },
          "execution_count": 18,
          "metadata": {},
          "output_type": "execute_result"
        }
      ],
      "source": [
        "df['num_of_passengers'].describe()"
      ]
    },
    {
      "cell_type": "code",
      "execution_count": 19,
      "metadata": {
        "id": "mTzur-Qv_ATv"
      },
      "outputs": [],
      "source": [
        "df['num_of_passengers']=df['num_of_passengers'].astype(int)"
      ]
    },
    {
      "cell_type": "code",
      "execution_count": 20,
      "metadata": {
        "colab": {
          "base_uri": "https://localhost:8080/"
        },
        "id": "XSpxqo0dDANG",
        "outputId": "35515220-64d2-4f70-f1ea-4be04edca95d"
      },
      "outputs": [
        {
          "data": {
            "text/plain": [
              "array([1, 3, 2, 0, 6, 5, 4, 8, 7, 9])"
            ]
          },
          "execution_count": 20,
          "metadata": {},
          "output_type": "execute_result"
        }
      ],
      "source": [
        "df['num_of_passengers'].unique()"
      ]
    },
    {
      "cell_type": "code",
      "execution_count": 21,
      "metadata": {
        "colab": {
          "base_uri": "https://localhost:8080/"
        },
        "id": "Ipr7Qxuf_f-Z",
        "outputId": "e8541191-2a58-448d-b209-854a70f50e2c"
      },
      "outputs": [
        {
          "data": {
            "text/plain": [
              "753"
            ]
          },
          "execution_count": 21,
          "metadata": {},
          "output_type": "execute_result"
        }
      ],
      "source": [
        "#here we can see 0 in the data it mean no passenger we need to fill the 0\n",
        "sum(df['num_of_passengers']==0)"
      ]
    },
    {
      "cell_type": "code",
      "execution_count": 22,
      "metadata": {
        "id": "f8PBgSxSDB6V"
      },
      "outputs": [],
      "source": [
        "mean_passengers = df[df['num_of_passengers'] != 0]['num_of_passengers'].mean()\n",
        "df['num_of_passengers']=df['num_of_passengers'].replace(0, mean_passengers)"
      ]
    },
    {
      "cell_type": "code",
      "execution_count": 23,
      "metadata": {
        "colab": {
          "base_uri": "https://localhost:8080/"
        },
        "id": "f_rkxJJjDbQv",
        "outputId": "eda0afd6-c51a-4b41-e502-48e4610ff9fe"
      },
      "outputs": [
        {
          "data": {
            "text/plain": [
              "array([1.        , 3.        , 2.        , 1.29746793, 6.        ,\n",
              "       5.        , 4.        , 8.        , 7.        , 9.        ])"
            ]
          },
          "execution_count": 23,
          "metadata": {},
          "output_type": "execute_result"
        }
      ],
      "source": [
        "df['num_of_passengers'].unique()"
      ]
    },
    {
      "cell_type": "code",
      "execution_count": 24,
      "metadata": {
        "id": "TRUird0bDfev"
      },
      "outputs": [],
      "source": [
        "df['num_of_passengers']=df['num_of_passengers'].astype(int)"
      ]
    },
    {
      "cell_type": "code",
      "execution_count": 25,
      "metadata": {
        "colab": {
          "base_uri": "https://localhost:8080/"
        },
        "id": "eu6KiXBUDhUu",
        "outputId": "07de3008-4a8b-4391-f361-b19d82d31ad6"
      },
      "outputs": [
        {
          "data": {
            "text/plain": [
              "array([1, 3, 2, 6, 5, 4, 8, 7, 9])"
            ]
          },
          "execution_count": 25,
          "metadata": {},
          "output_type": "execute_result"
        }
      ],
      "source": [
        "df['num_of_passengers'].unique()"
      ]
    },
    {
      "cell_type": "code",
      "execution_count": 26,
      "metadata": {
        "colab": {
          "base_uri": "https://localhost:8080/"
        },
        "id": "RqAFmAs-WHhw",
        "outputId": "515b5796-e838-4974-900b-df31610eccdd"
      },
      "outputs": [
        {
          "data": {
            "text/plain": [
              "0"
            ]
          },
          "execution_count": 26,
          "metadata": {},
          "output_type": "execute_result"
        }
      ],
      "source": [
        "#fare -  What's the base fare for the journey?[In INR]\n",
        "df['fare'].isnull().sum()"
      ]
    },
    {
      "cell_type": "code",
      "execution_count": 27,
      "metadata": {
        "colab": {
          "base_uri": "https://localhost:8080/"
        },
        "id": "OPxHHVhQWNjv",
        "outputId": "ebc5e023-11a9-497a-8da9-a62f154f0881"
      },
      "outputs": [
        {
          "data": {
            "text/plain": [
              "count    209673.000000\n",
              "mean         99.623431\n",
              "std          85.602702\n",
              "min           0.000000\n",
              "25%          52.500000\n",
              "50%          75.000000\n",
              "75%         116.250000\n",
              "max        4466.250000\n",
              "Name: fare, dtype: float64"
            ]
          },
          "execution_count": 27,
          "metadata": {},
          "output_type": "execute_result"
        }
      ],
      "source": [
        "df['fare'].describe()"
      ]
    },
    {
      "cell_type": "code",
      "execution_count": 28,
      "metadata": {
        "colab": {
          "base_uri": "https://localhost:8080/"
        },
        "id": "LYPx551-XK9P",
        "outputId": "1cbf5efd-c279-420c-97d1-c95f2b78f39b"
      },
      "outputs": [
        {
          "data": {
            "text/plain": [
              "155"
            ]
          },
          "execution_count": 28,
          "metadata": {},
          "output_type": "execute_result"
        }
      ],
      "source": [
        "sum(df['fare']==0)"
      ]
    },
    {
      "cell_type": "code",
      "execution_count": 29,
      "metadata": {
        "colab": {
          "base_uri": "https://localhost:8080/"
        },
        "id": "N2m8YqyJWSmx",
        "outputId": "2fcc6db7-e677-4899-cfea-9ae367db3938"
      },
      "outputs": [
        {
          "name": "stdout",
          "output_type": "stream",
          "text": [
            "-44.0\n",
            "212.0\n"
          ]
        }
      ],
      "source": [
        "q1=52\n",
        "q3=116\n",
        "iqr=q3-q1\n",
        "#print(iqr) - 64\n",
        "lower_limit=q1-(1.5*iqr)\n",
        "upper_limit=q3+(1.5*iqr)\n",
        "print(lower_limit)\n",
        "print(upper_limit)\n"
      ]
    },
    {
      "cell_type": "code",
      "execution_count": 30,
      "metadata": {
        "colab": {
          "base_uri": "https://localhost:8080/",
          "height": 564
        },
        "id": "MY6A8_ijWzka",
        "outputId": "6997a90c-c48d-4ac4-bdef-8c8f32b876f2"
      },
      "outputs": [
        {
          "data": {
            "image/png": "[encoded data removed]",
            "text/plain": [
              "<Figure size 800x600 with 1 Axes>"
            ]
          },
          "metadata": {},
          "output_type": "display_data"
        }
      ],
      "source": [
        "# to find outliers\n",
        "plt.figure(figsize=(8, 6))\n",
        "plt.boxplot(df['fare'], vert=False)\n",
        "plt.xlabel('fare')\n",
        "plt.title('Box Plot for Outlier Detection')\n",
        "plt.show()"
      ]
    },
    {
      "cell_type": "code",
      "execution_count": 31,
      "metadata": {
        "colab": {
          "base_uri": "https://localhost:8080/"
        },
        "id": "s5L3Ar2VW782",
        "outputId": "57b3f18f-7412-4b2d-b2fc-31d7fb172847"
      },
      "outputs": [
        {
          "name": "stdout",
          "output_type": "stream",
          "text": [
            "75.0\n"
          ]
        }
      ],
      "source": [
        "#to find the median value for the fare column\n",
        "median_fare=df['fare'].median()\n",
        "print(median_fare)"
      ]
    },
    {
      "cell_type": "code",
      "execution_count": 32,
      "metadata": {
        "id": "PJjtIr4gXEgW"
      },
      "outputs": [],
      "source": [
        "#to replace the 0 value into meadin value of fare column\n",
        "df['fare']=df['fare'].replace(0,median_fare)"
      ]
    },
    {
      "cell_type": "code",
      "execution_count": 33,
      "metadata": {
        "colab": {
          "base_uri": "https://localhost:8080/"
        },
        "id": "o8MvVF8KXwXD",
        "outputId": "79b6d9ea-a7f2-496f-9fd2-a1b9241ee5b6"
      },
      "outputs": [
        {
          "data": {
            "text/plain": [
              "0"
            ]
          },
          "execution_count": 33,
          "metadata": {},
          "output_type": "execute_result"
        }
      ],
      "source": [
        "#here we can see the 0 value is replace with median value\n",
        "sum(df['fare']==0)"
      ]
    },
    {
      "cell_type": "code",
      "execution_count": 34,
      "metadata": {
        "id": "CoU4a0ktIslw"
      },
      "outputs": [],
      "source": [
        "#convert float into int datatype\n",
        "df['fare']=df['fare'].astype(int)"
      ]
    },
    {
      "cell_type": "code",
      "execution_count": 35,
      "metadata": {
        "colab": {
          "base_uri": "https://localhost:8080/"
        },
        "id": "M4bBVmZQIzGL",
        "outputId": "72ee11ff-3711-4cf6-ef90-470aa5cb05fc"
      },
      "outputs": [
        {
          "data": {
            "text/plain": [
              "dtype('int64')"
            ]
          },
          "execution_count": 35,
          "metadata": {},
          "output_type": "execute_result"
        }
      ],
      "source": [
        "df['fare'].dtype"
      ]
    },
    {
      "cell_type": "code",
      "execution_count": 36,
      "metadata": {
        "colab": {
          "base_uri": "https://localhost:8080/"
        },
        "id": "_4znDyFWDuJO",
        "outputId": "76e2afcc-3b52-4efd-b8b1-79144704c928"
      },
      "outputs": [
        {
          "data": {
            "text/plain": [
              "0"
            ]
          },
          "execution_count": 36,
          "metadata": {},
          "output_type": "execute_result"
        }
      ],
      "source": [
        "#tip - How much did the driver receive in tips?[In INR]\n",
        "df['tip'].isnull().sum()"
      ]
    },
    {
      "cell_type": "code",
      "execution_count": 37,
      "metadata": {
        "colab": {
          "base_uri": "https://localhost:8080/"
        },
        "id": "vagyafRUDxit",
        "outputId": "d260bad2-d931-4cf3-fba7-94be4b3ca2b3"
      },
      "outputs": [
        {
          "data": {
            "text/plain": [
              "count    209673.000000\n",
              "mean         13.030824\n",
              "std          20.367764\n",
              "min           0.000000\n",
              "25%           0.000000\n",
              "50%           9.000000\n",
              "75%          20.000000\n",
              "max        2500.000000\n",
              "Name: tip, dtype: float64"
            ]
          },
          "execution_count": 37,
          "metadata": {},
          "output_type": "execute_result"
        }
      ],
      "source": [
        "df['tip'].describe()"
      ]
    },
    {
      "cell_type": "code",
      "execution_count": 38,
      "metadata": {
        "colab": {
          "base_uri": "https://localhost:8080/"
        },
        "id": "UVgyoyrwG74N",
        "outputId": "cbb80427-08db-45da-8548-dcf978c0a304"
      },
      "outputs": [
        {
          "data": {
            "text/plain": [
              "209673"
            ]
          },
          "execution_count": 38,
          "metadata": {},
          "output_type": "execute_result"
        }
      ],
      "source": [
        "df.shape[0]"
      ]
    },
    {
      "cell_type": "code",
      "execution_count": 39,
      "metadata": {
        "colab": {
          "base_uri": "https://localhost:8080/"
        },
        "id": "rhD8wpTuGzcr",
        "outputId": "ecbb0c23-fc70-4a7c-f340-f1e0c97a4c78"
      },
      "outputs": [
        {
          "data": {
            "text/plain": [
              "93408"
            ]
          },
          "execution_count": 39,
          "metadata": {},
          "output_type": "execute_result"
        }
      ],
      "source": [
        "# how many rows[people] not paid tip for the driver\n",
        "sum(df['tip']==0)"
      ]
    },
    {
      "cell_type": "code",
      "execution_count": 40,
      "metadata": {
        "colab": {
          "base_uri": "https://localhost:8080/",
          "height": 564
        },
        "id": "jKZ7_PIND8Ql",
        "outputId": "b321a5f6-5151-4db8-9086-dea3436ccd6f"
      },
      "outputs": [
        {
          "data": {
            "image/png": "[encoded data removed]",
            "text/plain": [
              "<Figure size 800x600 with 1 Axes>"
            ]
          },
          "metadata": {},
          "output_type": "display_data"
        }
      ],
      "source": [
        "#too see outlier we do box plot\n",
        "plt.figure(figsize=(8, 6))\n",
        "plt.boxplot(df['tip'], vert=False)\n",
        "plt.xlabel('tip')\n",
        "plt.title('Box Plot for Outlier Detection')\n",
        "plt.show()"
      ]
    },
    {
      "cell_type": "code",
      "execution_count": 41,
      "metadata": {
        "colab": {
          "base_uri": "https://localhost:8080/"
        },
        "id": "q0pWwENlMhQF",
        "outputId": "ca7fe891-a34a-4f93-c150-7a253eeae953"
      },
      "outputs": [
        {
          "name": "stdout",
          "output_type": "stream",
          "text": [
            "-30.0\n",
            "50.0\n"
          ]
        }
      ],
      "source": [
        "#so we can treat the outliers with iqr method\n",
        "q1=0\n",
        "q3=20\n",
        "iqr=q3-q1\n",
        "lower_limit=q1-(1.5*iqr)\n",
        "upper_limit=q3+(1.5*iqr)\n",
        "print(lower_limit)\n",
        "print(upper_limit)"
      ]
    },
    {
      "cell_type": "code",
      "execution_count": 42,
      "metadata": {
        "id": "pHX3CWGVNHB7"
      },
      "outputs": [],
      "source": [
        "#change the values if the values is greater than upper_limit\n",
        "df['tip'] = df['tip'].apply(lambda x: min(x,upper_limit))"
      ]
    },
    {
      "cell_type": "code",
      "execution_count": 43,
      "metadata": {
        "colab": {
          "base_uri": "https://localhost:8080/"
        },
        "id": "XaHKEHjDNZUG",
        "outputId": "fe63ac6a-49c1-4614-d180-3ecd021bc8be"
      },
      "outputs": [
        {
          "data": {
            "text/plain": [
              "count    209673.000000\n",
              "mean         12.109742\n",
              "std          14.039808\n",
              "min           0.000000\n",
              "25%           0.000000\n",
              "50%           9.000000\n",
              "75%          20.000000\n",
              "max          50.000000\n",
              "Name: tip, dtype: float64"
            ]
          },
          "execution_count": 43,
          "metadata": {},
          "output_type": "execute_result"
        }
      ],
      "source": [
        "df['tip'].describe()"
      ]
    },
    {
      "cell_type": "code",
      "execution_count": 44,
      "metadata": {
        "id": "orhGrhjEGrdI"
      },
      "outputs": [],
      "source": [
        "df['tip']=df['tip'].astype(int)"
      ]
    },
    {
      "cell_type": "code",
      "execution_count": 45,
      "metadata": {
        "colab": {
          "base_uri": "https://localhost:8080/"
        },
        "id": "SeoNkllnN8XR",
        "outputId": "c58e13d9-d9f7-464b-a52b-761428549fa9"
      },
      "outputs": [
        {
          "data": {
            "text/plain": [
              "0"
            ]
          },
          "execution_count": 45,
          "metadata": {},
          "output_type": "execute_result"
        }
      ],
      "source": [
        "#miscellaneous_fees - Were there any additional charges during the trip?e.g. tolls, convenience fees, GST etc.[In INR]\n",
        "df['miscellaneous_fees'].isnull().sum()"
      ]
    },
    {
      "cell_type": "code",
      "execution_count": 46,
      "metadata": {
        "colab": {
          "base_uri": "https://localhost:8080/"
        },
        "id": "R1uZUM-KN8bS",
        "outputId": "03a2c38a-6a0e-4bd2-dc20-217b36dd9074"
      },
      "outputs": [
        {
          "data": {
            "text/plain": [
              "count    209673.000000\n",
              "mean         15.136829\n",
              "std          12.553436\n",
              "min          -0.500000\n",
              "25%           6.000000\n",
              "50%           9.750000\n",
              "75%          26.450000\n",
              "max         435.000000\n",
              "Name: miscellaneous_fees, dtype: float64"
            ]
          },
          "execution_count": 46,
          "metadata": {},
          "output_type": "execute_result"
        }
      ],
      "source": [
        "df['miscellaneous_fees'].describe()"
      ]
    },
    {
      "cell_type": "code",
      "execution_count": 47,
      "metadata": {
        "colab": {
          "base_uri": "https://localhost:8080/"
        },
        "id": "XOfsddCTR_qT",
        "outputId": "cebb32a7-678e-4dff-99ad-77a83da62c2a"
      },
      "outputs": [
        {
          "name": "stdout",
          "output_type": "stream",
          "text": [
            "20\n",
            "-24.0\n",
            "56.0\n"
          ]
        }
      ],
      "source": [
        "q1=6\n",
        "q3=26\n",
        "iqr=q3-q1\n",
        "print(iqr)\n",
        "lower_limit=q1-(1.5*iqr)\n",
        "upper_limit=q3+(1.5*iqr)\n",
        "print(lower_limit)\n",
        "print(upper_limit)"
      ]
    },
    {
      "cell_type": "code",
      "execution_count": 48,
      "metadata": {
        "id": "wMunMPURNu1Z"
      },
      "outputs": [],
      "source": [
        "df['miscellaneous_fees']=df['miscellaneous_fees'].astype(int)"
      ]
    },
    {
      "cell_type": "code",
      "execution_count": 49,
      "metadata": {
        "colab": {
          "base_uri": "https://localhost:8080/"
        },
        "id": "m_u42PUmR_tI",
        "outputId": "bfc9019e-345c-46d8-a48b-45cd3114b7f2"
      },
      "outputs": [
        {
          "data": {
            "text/plain": [
              "0"
            ]
          },
          "execution_count": 49,
          "metadata": {},
          "output_type": "execute_result"
        }
      ],
      "source": [
        "#total_fare - The grand total for the ride (this is your prediction target!).[In INR]\n",
        "df['total_fare'].isnull().sum()"
      ]
    },
    {
      "cell_type": "code",
      "execution_count": 50,
      "metadata": {
        "colab": {
          "base_uri": "https://localhost:8080/"
        },
        "id": "o1qBnb-vR_uu",
        "outputId": "d769a232-2372-4290-aecf-d557ba00a7df"
      },
      "outputs": [
        {
          "data": {
            "text/plain": [
              "count    209673.000000\n",
              "mean        127.791084\n",
              "std          98.797374\n",
              "min           0.000000\n",
              "25%          70.200000\n",
              "50%         101.700000\n",
              "75%         152.250000\n",
              "max        4472.250000\n",
              "Name: total_fare, dtype: float64"
            ]
          },
          "execution_count": 50,
          "metadata": {},
          "output_type": "execute_result"
        }
      ],
      "source": [
        "df['total_fare'].describe()"
      ]
    },
    {
      "cell_type": "code",
      "execution_count": 51,
      "metadata": {
        "colab": {
          "base_uri": "https://localhost:8080/"
        },
        "id": "VI23x71fTAZw",
        "outputId": "47463162-769c-4f90-b432-92973aca82b6"
      },
      "outputs": [
        {
          "name": "stdout",
          "output_type": "stream",
          "text": [
            "-53.0\n",
            "275.0\n"
          ]
        }
      ],
      "source": [
        "q1=70\n",
        "q3=152\n",
        "iqr=q3-q1\n",
        "#print(iqr) - 82\n",
        "lower_limit=q1-(1.5*iqr)\n",
        "upper_limit=q3+(1.5*iqr)\n",
        "print(lower_limit)\n",
        "print(upper_limit)"
      ]
    },
    {
      "cell_type": "code",
      "execution_count": 52,
      "metadata": {
        "colab": {
          "base_uri": "https://localhost:8080/"
        },
        "id": "Sk1Od7wRR_yV",
        "outputId": "9f5cf0c2-68b7-4be0-b17d-1994686b1ed6"
      },
      "outputs": [
        {
          "data": {
            "text/plain": [
              "129"
            ]
          },
          "execution_count": 52,
          "metadata": {},
          "output_type": "execute_result"
        }
      ],
      "source": [
        "sum(df['total_fare']==0) #here we can see the total_fare is 0 so we need to treat the 0 values"
      ]
    },
    {
      "cell_type": "code",
      "execution_count": 53,
      "metadata": {
        "colab": {
          "base_uri": "https://localhost:8080/",
          "height": 564
        },
        "id": "AzRAp1AqSvsW",
        "outputId": "ba82a584-36d0-420a-828d-27fddfbb08ea"
      },
      "outputs": [
        {
          "data": {
            "image/png": "[encoded data removed]",
            "text/plain": [
              "<Figure size 800x600 with 1 Axes>"
            ]
          },
          "metadata": {},
          "output_type": "display_data"
        }
      ],
      "source": [
        "#to see outliers box plot for total fare\n",
        "plt.figure(figsize=(8, 6))\n",
        "plt.boxplot(df['total_fare'], vert=False)\n",
        "plt.xlabel('total_fare')\n",
        "plt.title('Box Plot for Outlier Detection')\n",
        "plt.show()"
      ]
    },
    {
      "cell_type": "code",
      "execution_count": 54,
      "metadata": {
        "colab": {
          "base_uri": "https://localhost:8080/"
        },
        "id": "bbTIpQtzSdq-",
        "outputId": "13ba24d5-1a52-4d15-a7ea-6b2d75bfede9"
      },
      "outputs": [
        {
          "name": "stdout",
          "output_type": "stream",
          "text": [
            "101.7\n"
          ]
        }
      ],
      "source": [
        "#here we can see more outlier so we tool medain of the total fare and treat the 0\n",
        "median_totalfare=df['total_fare'].median()\n",
        "print(median_totalfare)"
      ]
    },
    {
      "cell_type": "code",
      "execution_count": 55,
      "metadata": {
        "id": "B1hI_1C2UJ-E"
      },
      "outputs": [],
      "source": [
        "#to replace 0 with median value\n",
        "df['total_fare']=df['total_fare'].replace(0,median_totalfare)"
      ]
    },
    {
      "cell_type": "code",
      "execution_count": 56,
      "metadata": {
        "colab": {
          "base_uri": "https://localhost:8080/"
        },
        "id": "1_EhckyFUdMP",
        "outputId": "2c41ec49-0131-4f82-fb9f-15f7a4f01918"
      },
      "outputs": [
        {
          "data": {
            "text/plain": [
              "0"
            ]
          },
          "execution_count": 56,
          "metadata": {},
          "output_type": "execute_result"
        }
      ],
      "source": [
        "#here we can see no 0 in total_fare\n",
        "sum(df['total_fare']==0)"
      ]
    },
    {
      "cell_type": "code",
      "execution_count": 57,
      "metadata": {
        "id": "Gn9FGz_iUyrX"
      },
      "outputs": [],
      "source": [
        "df['total_fare']=df['total_fare'].astype(int)"
      ]
    },
    {
      "cell_type": "code",
      "execution_count": 58,
      "metadata": {
        "id": "zVZCK3PAVCFc"
      },
      "outputs": [],
      "source": [
        "#surge_applied -  Was there a surge pricing applied? Yes or no?"
      ]
    },
    {
      "cell_type": "code",
      "execution_count": 59,
      "metadata": {
        "colab": {
          "base_uri": "https://localhost:8080/"
        },
        "id": "q8noVrtnVCB2",
        "outputId": "6d006fd4-ab1c-43b6-c199-c7b5eac2c78f"
      },
      "outputs": [
        {
          "data": {
            "text/plain": [
              "0    150855\n",
              "1     58818\n",
              "Name: surge_applied, dtype: int64"
            ]
          },
          "execution_count": 59,
          "metadata": {},
          "output_type": "execute_result"
        }
      ],
      "source": [
        "df['surge_applied'].value_counts()"
      ]
    },
    {
      "cell_type": "code",
      "execution_count": 60,
      "metadata": {
        "id": "k49Jxge1VCAN"
      },
      "outputs": [],
      "source": [
        "#eda\n",
        "#1.Distribution of feature\n",
        "#2.feature vs target"
      ]
    },
    {
      "cell_type": "code",
      "execution_count": 61,
      "metadata": {
        "colab": {
          "base_uri": "https://localhost:8080/"
        },
        "id": "l48ZsEf_Vapm",
        "outputId": "6ced9340-8ce1-4726-d17e-dd1c7ee2b20d"
      },
      "outputs": [
        {
          "data": {
            "text/plain": [
              "Index(['trip_duration', 'distance_traveled', 'num_of_passengers', 'fare',\n",
              "       'tip', 'miscellaneous_fees', 'total_fare', 'surge_applied'],\n",
              "      dtype='object')"
            ]
          },
          "execution_count": 61,
          "metadata": {},
          "output_type": "execute_result"
        }
      ],
      "source": [
        "df.columns"
      ]
    },
    {
      "cell_type": "code",
      "execution_count": 62,
      "metadata": {
        "id": "LWRIi47SVB8w"
      },
      "outputs": [],
      "source": [
        "#categorical column - num_of_passengers, surge_applied\n",
        "#numeric_column - trip_duration, distance_traveled , fare, tip,miscellaneous_fees\n",
        "#target - total_fare(continerous data column)"
      ]
    },
    {
      "cell_type": "code",
      "execution_count": 63,
      "metadata": {
        "colab": {
          "base_uri": "https://localhost:8080/"
        },
        "id": "dr_qASkNa_01",
        "outputId": "f2cf9c15-705b-4baf-a729-5a02206df5fb"
      },
      "outputs": [
        {
          "data": {
            "text/plain": [
              "7         2\n",
              "9         8\n",
              "8        25\n",
              "4       908\n",
              "3      2757\n",
              "6      3382\n",
              "5      4713\n",
              "2     17896\n",
              "1    179982\n",
              "Name: num_of_passengers, dtype: int64"
            ]
          },
          "execution_count": 63,
          "metadata": {},
          "output_type": "execute_result"
        }
      ],
      "source": [
        "df['num_of_passengers'].value_counts().sort_values(ascending=True)"
      ]
    },
    {
      "cell_type": "code",
      "execution_count": 64,
      "metadata": {
        "colab": {
          "base_uri": "https://localhost:8080/",
          "height": 1000
        },
        "id": "WOuCVNKXXxHG",
        "outputId": "2f67bab5-e70b-4862-f7bf-733ba93b53a5"
      },
      "outputs": [
        {
          "data": {
            "image/png": "[encoded data removed]",
            "text/plain": [
              "<Figure size 640x480 with 1 Axes>"
            ]
          },
          "metadata": {},
          "output_type": "display_data"
        },
        {
          "data": {
            "image/png": "[encoded data removed]",
            "text/plain": [
              "<Figure size 640x480 with 1 Axes>"
            ]
          },
          "metadata": {},
          "output_type": "display_data"
        },
        {
          "data": {
            "image/png": "[encoded data removed]",
            "text/plain": [
              "<Figure size 640x480 with 1 Axes>"
            ]
          },
          "metadata": {},
          "output_type": "display_data"
        },
        {
          "data": {
            "image/png": "[encoded data removed]",
            "text/plain": [
              "<Figure size 640x480 with 1 Axes>"
            ]
          },
          "metadata": {},
          "output_type": "display_data"
        },
        {
          "data": {
            "image/png": "[encoded data removed]",
            "text/plain": [
              "<Figure size 640x480 with 1 Axes>"
            ]
          },
          "metadata": {},
          "output_type": "display_data"
        }
      ],
      "source": [
        "# plot for numeric(contineous)\n",
        "plt.plot(df['trip_duration'])\n",
        "plt.xlabel('num_of_passenger')\n",
        "plt.ylabel('Frequency')\n",
        "plt.title('plot based on num_of_passenger')\n",
        "plt.show()\n",
        "\n",
        "sorted_data=df['distance_traveled'].sort_values(ascending=False)\n",
        "plt.hist(sorted_data)\n",
        "plt.xlabel('distance_traveled')\n",
        "plt.ylabel('Frequency')\n",
        "plt.title('plot based on distance_traveled')\n",
        "plt.show()\n",
        "\n",
        "sorted_data1=df['fare'].sort_values(ascending=False)\n",
        "plt.hist(sorted_data1)\n",
        "plt.xlabel('Fare')\n",
        "plt.ylabel('Frequency')\n",
        "plt.title('plot based on Fare')\n",
        "plt.show()\n",
        "\n",
        "sorted_data2=df['tip'].sort_values(ascending=False)\n",
        "plt.hist(sorted_data2)\n",
        "plt.xlabel('tip')\n",
        "plt.ylabel('Frequency')\n",
        "plt.title('plot based on tip')\n",
        "plt.show()\n",
        "\n",
        "sorted_data3=df['total_fare'].sort_values(ascending=False)\n",
        "plt.hist(sorted_data3)\n",
        "plt.xlabel('total_fare')\n",
        "plt.ylabel('Frequency')\n",
        "plt.title('plot based on total_fare')\n",
        "plt.show()\n",
        "\n",
        "\n",
        "\n",
        "#miscellaneous_fees"
      ]
    },
    {
      "cell_type": "code",
      "execution_count": 65,
      "metadata": {
        "colab": {
          "base_uri": "https://localhost:8080/",
          "height": 917
        },
        "id": "tyeqdeDoZTQF",
        "outputId": "ad3dd60f-e831-4398-ca6b-d8a192b3da63"
      },
      "outputs": [
        {
          "data": {
            "image/png": "[encoded data removed]",
            "text/plain": [
              "<Figure size 640x480 with 1 Axes>"
            ]
          },
          "metadata": {},
          "output_type": "display_data"
        },
        {
          "data": {
            "image/png": "[encoded data removed]",
            "text/plain": [
              "<Figure size 640x480 with 1 Axes>"
            ]
          },
          "metadata": {},
          "output_type": "display_data"
        }
      ],
      "source": [
        "#plot for categorical column\n",
        "\n",
        "passenger_count=df['num_of_passengers'].value_counts()\n",
        "passenger_count.plot(kind='bar')\n",
        "plt.xlabel('Number of Passengers')\n",
        "plt.ylabel('Count')\n",
        "plt.title('Bar Plot for Number of Passengers')\n",
        "plt.show()\n",
        "\n",
        "surge_applied_count=df['surge_applied'].value_counts()\n",
        "surge_applied_count.plot(kind='bar')\n",
        "plt.xlabel('surge applied categories')\n",
        "plt.ylabel('Count')\n",
        "plt.title('Bar Plot for surge applied')\n",
        "plt.show()\n"
      ]
    },
    {
      "cell_type": "code",
      "execution_count": 66,
      "metadata": {
        "id": "KzwolcTcVBt_"
      },
      "outputs": [],
      "source": [
        "#feature vs target\n",
        "#orders for all categrical column\n",
        "#df.groupby('area')['sales_price'].mean().reset_index().sort_values('sales_price')['area']\n",
        "passenger_order=df.groupby('num_of_passengers')['total_fare'].mean().reset_index().sort_values('total_fare')['num_of_passengers']\n",
        "surge_order=df.groupby('surge_applied')['total_fare'].mean().reset_index().sort_values('total_fare')['surge_applied']"
      ]
    },
    {
      "cell_type": "code",
      "execution_count": 67,
      "metadata": {
        "colab": {
          "base_uri": "https://localhost:8080/",
          "height": 493
        },
        "id": "m5Ow5ktUJ2pf",
        "outputId": "3f08ea93-dfa5-4a97-f092-287e3e5b8581"
      },
      "outputs": [
        {
          "data": {
            "image/png": "[encoded data removed]",
            "text/plain": [
              "<Figure size 1400x900 with 1 Axes>"
            ]
          },
          "metadata": {},
          "output_type": "display_data"
        },
        {
          "data": {
            "image/png": "[encoded data removed]",
            "text/plain": [
              "<Figure size 1400x900 with 1 Axes>"
            ]
          },
          "metadata": {},
          "output_type": "display_data"
        }
      ],
      "source": [
        "plt.figure(figsize=(14,9))\n",
        "plt.subplot(431)\n",
        "sns.barplot(x=df['num_of_passengers'],y=df['total_fare'],order=passenger_order)\n",
        "plt.xticks(rotation=15)\n",
        "plt.xlabel('number of passenger')\n",
        "plt.ylabel('total_fare')\n",
        "plt.title('num_of_passenger vs total_fare')\n",
        "plt.show()\n",
        "\n",
        "plt.figure(figsize=(14,9))\n",
        "plt.subplot(432)\n",
        "sns.barplot(x=df['surge_applied'],y=df['total_fare'],order=surge_order)\n",
        "plt.xticks(rotation=15)\n",
        "plt.xlabel('surge applied')\n",
        "plt.ylabel('total fare')\n",
        "plt.title('num_of_passenger vs total_fare')\n",
        "plt.show()"
      ]
    },
    {
      "cell_type": "code",
      "execution_count": 68,
      "metadata": {
        "colab": {
          "base_uri": "https://localhost:8080/",
          "height": 1000
        },
        "id": "ptctg4wbRBRU",
        "outputId": "148aae03-0cf0-4de0-a92c-662b566841b4"
      },
      "outputs": [
        {
          "data": {
            "image/png": "[encoded data removed]",
            "text/plain": [
              "<Figure size 400x400 with 1 Axes>"
            ]
          },
          "metadata": {},
          "output_type": "display_data"
        },
        {
          "data": {
            "image/png": "[encoded data removed]",
            "text/plain": [
              "<Figure size 400x400 with 1 Axes>"
            ]
          },
          "metadata": {},
          "output_type": "display_data"
        },
        {
          "data": {
            "image/png": "[encoded data removed]",
            "text/plain": [
              "<Figure size 400x400 with 1 Axes>"
            ]
          },
          "metadata": {},
          "output_type": "display_data"
        },
        {
          "data": {
            "image/png": "[encoded data removed]",
            "text/plain": [
              "<Figure size 400x400 with 1 Axes>"
            ]
          },
          "metadata": {},
          "output_type": "display_data"
        },
        {
          "data": {
            "image/png": "[encoded data removed]",
            "text/plain": [
              "<Figure size 400x400 with 1 Axes>"
            ]
          },
          "metadata": {},
          "output_type": "display_data"
        }
      ],
      "source": [
        "# feature vs targer\n",
        "plt.figure(figsize=(4, 4))\n",
        "plt.scatter(df['trip_duration'], df['total_fare'])\n",
        "plt.xlabel('trip_duration')\n",
        "plt.ylabel('total_fare')\n",
        "plt.title('trip_duration vs total_fare')\n",
        "plt.show()\n",
        "\n",
        "plt.figure(figsize=(4, 4))\n",
        "plt.scatter(df['distance_traveled'], df['total_fare'])\n",
        "plt.xlabel('distance_traveled')\n",
        "plt.ylabel('total_fare')\n",
        "plt.title('distance_traveled vs total_fare')\n",
        "plt.show()\n",
        "\n",
        "plt.figure(figsize=(4, 4))\n",
        "plt.scatter(df['distance_traveled'], df['total_fare'])\n",
        "plt.xlabel('distance_traveled')\n",
        "plt.ylabel('total_fare')\n",
        "plt.title('distance_traveled vs total_fare')\n",
        "plt.show()\n",
        "\n",
        "plt.figure(figsize=(4, 4))\n",
        "plt.scatter(df['fare'], df['total_fare'])\n",
        "plt.xlabel('fare')\n",
        "plt.ylabel('total_fare')\n",
        "plt.title('fare vs total_fare')\n",
        "plt.show()\n",
        "\n",
        "plt.figure(figsize=(4, 4))\n",
        "plt.scatter(df['tip'], df['total_fare'])\n",
        "plt.xlabel('tip')\n",
        "plt.ylabel('total_fare')\n",
        "plt.title('tip vs total_fare')\n",
        "plt.show()"
      ]
    },
    {
      "cell_type": "code",
      "execution_count": 69,
      "metadata": {
        "colab": {
          "base_uri": "https://localhost:8080/",
          "height": 443
        },
        "id": "VYhthy3AJ4Oi",
        "outputId": "1c85cd54-2fd2-497e-bfb2-21843896aab7"
      },
      "outputs": [
        {
          "data": {
            "text/html": [
              "\n",
              "  <div id=\"df-3f1785e2-2fcf-4d63-9636-1e870655057b\" class=\"colab-df-container\">\n",
              "    <div>\n",
              "<style scoped>\n",
              "    .dataframe tbody tr th:only-of-type {\n",
              "        vertical-align: middle;\n",
              "    }\n",
              "\n",
              "    .dataframe tbody tr th {\n",
              "        vertical-align: top;\n",
              "    }\n",
              "\n",
              "    .dataframe thead th {\n",
              "        text-align: right;\n",
              "    }\n",
              "</style>\n",
              "<table border=\"1\" class=\"dataframe\">\n",
              "  <thead>\n",
              "    <tr style=\"text-align: right;\">\n",
              "      <th></th>\n",
              "      <th>trip_duration</th>\n",
              "      <th>distance_traveled</th>\n",
              "      <th>num_of_passengers</th>\n",
              "      <th>fare</th>\n",
              "      <th>tip</th>\n",
              "      <th>miscellaneous_fees</th>\n",
              "      <th>total_fare</th>\n",
              "      <th>surge_applied</th>\n",
              "    </tr>\n",
              "  </thead>\n",
              "  <tbody>\n",
              "    <tr>\n",
              "      <th>0</th>\n",
              "      <td>748</td>\n",
              "      <td>2</td>\n",
              "      <td>1</td>\n",
              "      <td>75</td>\n",
              "      <td>24</td>\n",
              "      <td>6</td>\n",
              "      <td>105</td>\n",
              "      <td>0</td>\n",
              "    </tr>\n",
              "    <tr>\n",
              "      <th>1</th>\n",
              "      <td>1187</td>\n",
              "      <td>3</td>\n",
              "      <td>1</td>\n",
              "      <td>105</td>\n",
              "      <td>24</td>\n",
              "      <td>13</td>\n",
              "      <td>142</td>\n",
              "      <td>0</td>\n",
              "    </tr>\n",
              "    <tr>\n",
              "      <th>2</th>\n",
              "      <td>730</td>\n",
              "      <td>3</td>\n",
              "      <td>1</td>\n",
              "      <td>71</td>\n",
              "      <td>0</td>\n",
              "      <td>26</td>\n",
              "      <td>97</td>\n",
              "      <td>1</td>\n",
              "    </tr>\n",
              "    <tr>\n",
              "      <th>3</th>\n",
              "      <td>671</td>\n",
              "      <td>5</td>\n",
              "      <td>3</td>\n",
              "      <td>90</td>\n",
              "      <td>0</td>\n",
              "      <td>9</td>\n",
              "      <td>99</td>\n",
              "      <td>0</td>\n",
              "    </tr>\n",
              "    <tr>\n",
              "      <th>4</th>\n",
              "      <td>329</td>\n",
              "      <td>2</td>\n",
              "      <td>1</td>\n",
              "      <td>45</td>\n",
              "      <td>12</td>\n",
              "      <td>13</td>\n",
              "      <td>70</td>\n",
              "      <td>0</td>\n",
              "    </tr>\n",
              "    <tr>\n",
              "      <th>...</th>\n",
              "      <td>...</td>\n",
              "      <td>...</td>\n",
              "      <td>...</td>\n",
              "      <td>...</td>\n",
              "      <td>...</td>\n",
              "      <td>...</td>\n",
              "      <td>...</td>\n",
              "      <td>...</td>\n",
              "    </tr>\n",
              "    <tr>\n",
              "      <th>209668</th>\n",
              "      <td>1617</td>\n",
              "      <td>8</td>\n",
              "      <td>1</td>\n",
              "      <td>150</td>\n",
              "      <td>47</td>\n",
              "      <td>5</td>\n",
              "      <td>202</td>\n",
              "      <td>0</td>\n",
              "    </tr>\n",
              "    <tr>\n",
              "      <th>209669</th>\n",
              "      <td>438</td>\n",
              "      <td>1</td>\n",
              "      <td>1</td>\n",
              "      <td>48</td>\n",
              "      <td>12</td>\n",
              "      <td>34</td>\n",
              "      <td>95</td>\n",
              "      <td>1</td>\n",
              "    </tr>\n",
              "    <tr>\n",
              "      <th>209670</th>\n",
              "      <td>571</td>\n",
              "      <td>2</td>\n",
              "      <td>1</td>\n",
              "      <td>63</td>\n",
              "      <td>0</td>\n",
              "      <td>6</td>\n",
              "      <td>69</td>\n",
              "      <td>0</td>\n",
              "    </tr>\n",
              "    <tr>\n",
              "      <th>209671</th>\n",
              "      <td>491</td>\n",
              "      <td>2</td>\n",
              "      <td>1</td>\n",
              "      <td>56</td>\n",
              "      <td>0</td>\n",
              "      <td>13</td>\n",
              "      <td>69</td>\n",
              "      <td>0</td>\n",
              "    </tr>\n",
              "    <tr>\n",
              "      <th>209672</th>\n",
              "      <td>3614</td>\n",
              "      <td>11</td>\n",
              "      <td>1</td>\n",
              "      <td>337</td>\n",
              "      <td>0</td>\n",
              "      <td>2</td>\n",
              "      <td>339</td>\n",
              "      <td>0</td>\n",
              "    </tr>\n",
              "  </tbody>\n",
              "</table>\n",
              "<p>209673 rows × 8 columns</p>\n",
              "</div>\n",
              "    <div class=\"colab-df-buttons\">\n",
              "\n",
              "  <div class=\"colab-df-container\">\n",
              "    <button class=\"colab-df-convert\" onclick=\"convertToInteractive('df-3f1785e2-2fcf-4d63-9636-1e870655057b')\"\n",
              "            title=\"Convert this dataframe to an interactive table.\"\n",
              "            style=\"display:none;\">\n",
              "\n",
              "  <svg xmlns=\"http://www.w3.org/2000/svg\" height=\"24px\" viewBox=\"0 -960 960 960\">\n",
              "    <path d=\"M120-120v-720h720v720H120Zm60-500h600v-160H180v160Zm220 220h160v-160H400v160Zm0 220h160v-160H400v160ZM180-400h160v-160H180v160Zm440 0h160v-160H620v160ZM180-180h160v-160H180v160Zm440 0h160v-160H620v160Z\"/>\n",
              "  </svg>\n",
              "    </button>\n",
              "\n",
              "  <style>\n",
              "    .colab-df-container {\n",
              "      display:flex;\n",
              "      gap: 12px;\n",
              "    }\n",
              "\n",
              "    .colab-df-convert {\n",
              "      background-color: #E8F0FE;\n",
              "      border: none;\n",
              "      border-radius: 50%;\n",
              "      cursor: pointer;\n",
              "      display: none;\n",
              "      fill: #1967D2;\n",
              "      height: 32px;\n",
              "      padding: 0 0 0 0;\n",
              "      width: 32px;\n",
              "    }\n",
              "\n",
              "    .colab-df-convert:hover {\n",
              "      background-color: #E2EBFA;\n",
              "      box-shadow: 0px 1px 2px rgba(60, 64, 67, 0.3), 0px 1px 3px 1px rgba(60, 64, 67, 0.15);\n",
              "      fill: #174EA6;\n",
              "    }\n",
              "\n",
              "    .colab-df-buttons div {\n",
              "      margin-bottom: 4px;\n",
              "    }\n",
              "\n",
              "    [theme=dark] .colab-df-convert {\n",
              "      background-color: #3B4455;\n",
              "      fill: #D2E3FC;\n",
              "    }\n",
              "\n",
              "    [theme=dark] .colab-df-convert:hover {\n",
              "      background-color: #434B5C;\n",
              "      box-shadow: 0px 1px 3px 1px rgba(0, 0, 0, 0.15);\n",
              "      filter: drop-shadow(0px 1px 2px rgba(0, 0, 0, 0.3));\n",
              "      fill: #FFFFFF;\n",
              "    }\n",
              "  </style>\n",
              "\n",
              "    <script>\n",
              "      const buttonEl =\n",
              "        document.querySelector('#df-3f1785e2-2fcf-4d63-9636-1e870655057b button.colab-df-convert');\n",
              "      buttonEl.style.display =\n",
              "        google.colab.kernel.accessAllowed ? 'block' : 'none';\n",
              "\n",
              "      async function convertToInteractive(key) {\n",
              "        const element = document.querySelector('#df-3f1785e2-2fcf-4d63-9636-1e870655057b');\n",
              "        const dataTable =\n",
              "          await google.colab.kernel.invokeFunction('convertToInteractive',\n",
              "                                                    [key], {});\n",
              "        if (!dataTable) return;\n",
              "\n",
              "        const docLinkHtml = 'Like what you see? Visit the ' +\n",
              "          '<a target=\"_blank\" href=https://colab.research.google.com/notebooks/data_table.ipynb>data table notebook</a>'\n",
              "          + ' to learn more about interactive tables.';\n",
              "        element.innerHTML = '';\n",
              "        dataTable['output_type'] = 'display_data';\n",
              "        await google.colab.output.renderOutput(dataTable, element);\n",
              "        const docLink = document.createElement('div');\n",
              "        docLink.innerHTML = docLinkHtml;\n",
              "        element.appendChild(docLink);\n",
              "      }\n",
              "    </script>\n",
              "  </div>\n",
              "\n",
              "\n",
              "<div id=\"df-bc658d1f-c2e5-442b-9301-b4365484523d\">\n",
              "  <button class=\"colab-df-quickchart\" onclick=\"quickchart('df-bc658d1f-c2e5-442b-9301-b4365484523d')\"\n",
              "            title=\"Suggest charts.\"\n",
              "            style=\"display:none;\">\n",
              "\n",
              "<svg xmlns=\"http://www.w3.org/2000/svg\" height=\"24px\"viewBox=\"0 0 24 24\"\n",
              "     width=\"24px\">\n",
              "    <g>\n",
              "        <path d=\"M19 3H5c-1.1 0-2 .9-2 2v14c0 1.1.9 2 2 2h14c1.1 0 2-.9 2-2V5c0-1.1-.9-2-2-2zM9 17H7v-7h2v7zm4 0h-2V7h2v10zm4 0h-2v-4h2v4z\"/>\n",
              "    </g>\n",
              "</svg>\n",
              "  </button>\n",
              "\n",
              "<style>\n",
              "  .colab-df-quickchart {\n",
              "      --bg-color: #E8F0FE;\n",
              "      --fill-color: #1967D2;\n",
              "      --hover-bg-color: #E2EBFA;\n",
              "      --hover-fill-color: #174EA6;\n",
              "      --disabled-fill-color: #AAA;\n",
              "      --disabled-bg-color: #DDD;\n",
              "  }\n",
              "\n",
              "  [theme=dark] .colab-df-quickchart {\n",
              "      --bg-color: #3B4455;\n",
              "      --fill-color: #D2E3FC;\n",
              "      --hover-bg-color: #434B5C;\n",
              "      --hover-fill-color: #FFFFFF;\n",
              "      --disabled-bg-color: #3B4455;\n",
              "      --disabled-fill-color: #666;\n",
              "  }\n",
              "\n",
              "  .colab-df-quickchart {\n",
              "    background-color: var(--bg-color);\n",
              "    border: none;\n",
              "    border-radius: 50%;\n",
              "    cursor: pointer;\n",
              "    display: none;\n",
              "    fill: var(--fill-color);\n",
              "    height: 32px;\n",
              "    padding: 0;\n",
              "    width: 32px;\n",
              "  }\n",
              "\n",
              "  .colab-df-quickchart:hover {\n",
              "    background-color: var(--hover-bg-color);\n",
              "    box-shadow: 0 1px 2px rgba(60, 64, 67, 0.3), 0 1px 3px 1px rgba(60, 64, 67, 0.15);\n",
              "    fill: var(--button-hover-fill-color);\n",
              "  }\n",
              "\n",
              "  .colab-df-quickchart-complete:disabled,\n",
              "  .colab-df-quickchart-complete:disabled:hover {\n",
              "    background-color: var(--disabled-bg-color);\n",
              "    fill: var(--disabled-fill-color);\n",
              "    box-shadow: none;\n",
              "  }\n",
              "\n",
              "  .colab-df-spinner {\n",
              "    border: 2px solid var(--fill-color);\n",
              "    border-color: transparent;\n",
              "    border-bottom-color: var(--fill-color);\n",
              "    animation:\n",
              "      spin 1s steps(1) infinite;\n",
              "  }\n",
              "\n",
              "  @keyframes spin {\n",
              "    0% {\n",
              "      border-color: transparent;\n",
              "      border-bottom-color: var(--fill-color);\n",
              "      border-left-color: var(--fill-color);\n",
              "    }\n",
              "    20% {\n",
              "      border-color: transparent;\n",
              "      border-left-color: var(--fill-color);\n",
              "      border-top-color: var(--fill-color);\n",
              "    }\n",
              "    30% {\n",
              "      border-color: transparent;\n",
              "      border-left-color: var(--fill-color);\n",
              "      border-top-color: var(--fill-color);\n",
              "      border-right-color: var(--fill-color);\n",
              "    }\n",
              "    40% {\n",
              "      border-color: transparent;\n",
              "      border-right-color: var(--fill-color);\n",
              "      border-top-color: var(--fill-color);\n",
              "    }\n",
              "    60% {\n",
              "      border-color: transparent;\n",
              "      border-right-color: var(--fill-color);\n",
              "    }\n",
              "    80% {\n",
              "      border-color: transparent;\n",
              "      border-right-color: var(--fill-color);\n",
              "      border-bottom-color: var(--fill-color);\n",
              "    }\n",
              "    90% {\n",
              "      border-color: transparent;\n",
              "      border-bottom-color: var(--fill-color);\n",
              "    }\n",
              "  }\n",
              "</style>\n",
              "\n",
              "  <script>\n",
              "    async function quickchart(key) {\n",
              "      const quickchartButtonEl =\n",
              "        document.querySelector('#' + key + ' button');\n",
              "      quickchartButtonEl.disabled = true;  // To prevent multiple clicks.\n",
              "      quickchartButtonEl.classList.add('colab-df-spinner');\n",
              "      try {\n",
              "        const charts = await google.colab.kernel.invokeFunction(\n",
              "            'suggestCharts', [key], {});\n",
              "      } catch (error) {\n",
              "        console.error('Error during call to suggestCharts:', error);\n",
              "      }\n",
              "      quickchartButtonEl.classList.remove('colab-df-spinner');\n",
              "      quickchartButtonEl.classList.add('colab-df-quickchart-complete');\n",
              "    }\n",
              "    (() => {\n",
              "      let quickchartButtonEl =\n",
              "        document.querySelector('#df-bc658d1f-c2e5-442b-9301-b4365484523d button');\n",
              "      quickchartButtonEl.style.display =\n",
              "        google.colab.kernel.accessAllowed ? 'block' : 'none';\n",
              "    })();\n",
              "  </script>\n",
              "</div>\n",
              "    </div>\n",
              "  </div>\n"
            ],
            "text/plain": [
              "        trip_duration  distance_traveled  num_of_passengers  fare  tip  \\\n",
              "0                 748                  2                  1    75   24   \n",
              "1                1187                  3                  1   105   24   \n",
              "2                 730                  3                  1    71    0   \n",
              "3                 671                  5                  3    90    0   \n",
              "4                 329                  2                  1    45   12   \n",
              "...               ...                ...                ...   ...  ...   \n",
              "209668           1617                  8                  1   150   47   \n",
              "209669            438                  1                  1    48   12   \n",
              "209670            571                  2                  1    63    0   \n",
              "209671            491                  2                  1    56    0   \n",
              "209672           3614                 11                  1   337    0   \n",
              "\n",
              "        miscellaneous_fees  total_fare  surge_applied  \n",
              "0                        6         105              0  \n",
              "1                       13         142              0  \n",
              "2                       26          97              1  \n",
              "3                        9          99              0  \n",
              "4                       13          70              0  \n",
              "...                    ...         ...            ...  \n",
              "209668                   5         202              0  \n",
              "209669                  34          95              1  \n",
              "209670                   6          69              0  \n",
              "209671                  13          69              0  \n",
              "209672                   2         339              0  \n",
              "\n",
              "[209673 rows x 8 columns]"
            ]
          },
          "execution_count": 69,
          "metadata": {},
          "output_type": "execute_result"
        }
      ],
      "source": [
        "numeric_feature=df.select_dtypes(include=[np.number])\n",
        "numeric_feature"
      ]
    },
    {
      "cell_type": "code",
      "execution_count": 70,
      "metadata": {
        "colab": {
          "base_uri": "https://localhost:8080/"
        },
        "id": "v-E52pxiKBaZ",
        "outputId": "365b935e-75a9-4a38-8c9c-f0a5d77b5c8e"
      },
      "outputs": [
        {
          "name": "stdout",
          "output_type": "stream",
          "text": [
            "total_fare            1.000000\n",
            "fare                  0.966831\n",
            "distance_traveled     0.735726\n",
            "miscellaneous_fees    0.451888\n",
            "tip                   0.441001\n",
            "surge_applied         0.266447\n",
            "trip_duration         0.142368\n",
            "num_of_passengers     0.014008\n",
            "Name: total_fare, dtype: float64\n"
          ]
        }
      ],
      "source": [
        "corelation=numeric_feature.corr()\n",
        "print(corelation['total_fare'].sort_values(ascending=False))"
      ]
    },
    {
      "cell_type": "code",
      "execution_count": 71,
      "metadata": {
        "colab": {
          "base_uri": "https://localhost:8080/",
          "height": 754
        },
        "id": "HSiTeOryKcmD",
        "outputId": "b22a051b-d785-428a-e3c6-58dabf5f8e24"
      },
      "outputs": [
        {
          "data": {
            "image/png": "[encoded data removed]",
            "text/plain": [
              "<Figure size 1400x900 with 2 Axes>"
            ]
          },
          "metadata": {},
          "output_type": "display_data"
        }
      ],
      "source": [
        "f,ax=plt.subplots(figsize=(14,9))\n",
        "plt.title(\"corelation between feature vs target\")\n",
        "sns.heatmap(corelation,square=True,annot=True,cmap='coolwarm')\n",
        "plt.show()"
      ]
    },
    {
      "cell_type": "code",
      "execution_count": 72,
      "metadata": {
        "colab": {
          "base_uri": "https://localhost:8080/",
          "height": 226
        },
        "id": "NnXzndlH3GDX",
        "outputId": "d27f7586-e8c2-438e-cb2e-fb1c335d2632"
      },
      "outputs": [
        {
          "data": {
            "text/html": [
              "\n",
              "  <div id=\"df-b1474271-fd9f-425d-a8e1-0a8360635053\" class=\"colab-df-container\">\n",
              "    <div>\n",
              "<style scoped>\n",
              "    .dataframe tbody tr th:only-of-type {\n",
              "        vertical-align: middle;\n",
              "    }\n",
              "\n",
              "    .dataframe tbody tr th {\n",
              "        vertical-align: top;\n",
              "    }\n",
              "\n",
              "    .dataframe thead th {\n",
              "        text-align: right;\n",
              "    }\n",
              "</style>\n",
              "<table border=\"1\" class=\"dataframe\">\n",
              "  <thead>\n",
              "    <tr style=\"text-align: right;\">\n",
              "      <th></th>\n",
              "      <th>trip_duration</th>\n",
              "      <th>distance_traveled</th>\n",
              "      <th>num_of_passengers</th>\n",
              "      <th>fare</th>\n",
              "      <th>tip</th>\n",
              "      <th>miscellaneous_fees</th>\n",
              "      <th>total_fare</th>\n",
              "      <th>surge_applied</th>\n",
              "    </tr>\n",
              "  </thead>\n",
              "  <tbody>\n",
              "    <tr>\n",
              "      <th>0</th>\n",
              "      <td>748</td>\n",
              "      <td>2</td>\n",
              "      <td>1</td>\n",
              "      <td>75</td>\n",
              "      <td>24</td>\n",
              "      <td>6</td>\n",
              "      <td>105</td>\n",
              "      <td>0</td>\n",
              "    </tr>\n",
              "    <tr>\n",
              "      <th>1</th>\n",
              "      <td>1187</td>\n",
              "      <td>3</td>\n",
              "      <td>1</td>\n",
              "      <td>105</td>\n",
              "      <td>24</td>\n",
              "      <td>13</td>\n",
              "      <td>142</td>\n",
              "      <td>0</td>\n",
              "    </tr>\n",
              "    <tr>\n",
              "      <th>2</th>\n",
              "      <td>730</td>\n",
              "      <td>3</td>\n",
              "      <td>1</td>\n",
              "      <td>71</td>\n",
              "      <td>0</td>\n",
              "      <td>26</td>\n",
              "      <td>97</td>\n",
              "      <td>1</td>\n",
              "    </tr>\n",
              "    <tr>\n",
              "      <th>3</th>\n",
              "      <td>671</td>\n",
              "      <td>5</td>\n",
              "      <td>3</td>\n",
              "      <td>90</td>\n",
              "      <td>0</td>\n",
              "      <td>9</td>\n",
              "      <td>99</td>\n",
              "      <td>0</td>\n",
              "    </tr>\n",
              "    <tr>\n",
              "      <th>4</th>\n",
              "      <td>329</td>\n",
              "      <td>2</td>\n",
              "      <td>1</td>\n",
              "      <td>45</td>\n",
              "      <td>12</td>\n",
              "      <td>13</td>\n",
              "      <td>70</td>\n",
              "      <td>0</td>\n",
              "    </tr>\n",
              "  </tbody>\n",
              "</table>\n",
              "</div>\n",
              "    <div class=\"colab-df-buttons\">\n",
              "\n",
              "  <div class=\"colab-df-container\">\n",
              "    <button class=\"colab-df-convert\" onclick=\"convertToInteractive('df-b1474271-fd9f-425d-a8e1-0a8360635053')\"\n",
              "            title=\"Convert this dataframe to an interactive table.\"\n",
              "            style=\"display:none;\">\n",
              "\n",
              "  <svg xmlns=\"http://www.w3.org/2000/svg\" height=\"24px\" viewBox=\"0 -960 960 960\">\n",
              "    <path d=\"M120-120v-720h720v720H120Zm60-500h600v-160H180v160Zm220 220h160v-160H400v160Zm0 220h160v-160H400v160ZM180-400h160v-160H180v160Zm440 0h160v-160H620v160ZM180-180h160v-160H180v160Zm440 0h160v-160H620v160Z\"/>\n",
              "  </svg>\n",
              "    </button>\n",
              "\n",
              "  <style>\n",
              "    .colab-df-container {\n",
              "      display:flex;\n",
              "      gap: 12px;\n",
              "    }\n",
              "\n",
              "    .colab-df-convert {\n",
              "      background-color: #E8F0FE;\n",
              "      border: none;\n",
              "      border-radius: 50%;\n",
              "      cursor: pointer;\n",
              "      display: none;\n",
              "      fill: #1967D2;\n",
              "      height: 32px;\n",
              "      padding: 0 0 0 0;\n",
              "      width: 32px;\n",
              "    }\n",
              "\n",
              "    .colab-df-convert:hover {\n",
              "      background-color: #E2EBFA;\n",
              "      box-shadow: 0px 1px 2px rgba(60, 64, 67, 0.3), 0px 1px 3px 1px rgba(60, 64, 67, 0.15);\n",
              "      fill: #174EA6;\n",
              "    }\n",
              "\n",
              "    .colab-df-buttons div {\n",
              "      margin-bottom: 4px;\n",
              "    }\n",
              "\n",
              "    [theme=dark] .colab-df-convert {\n",
              "      background-color: #3B4455;\n",
              "      fill: #D2E3FC;\n",
              "    }\n",
              "\n",
              "    [theme=dark] .colab-df-convert:hover {\n",
              "      background-color: #434B5C;\n",
              "      box-shadow: 0px 1px 3px 1px rgba(0, 0, 0, 0.15);\n",
              "      filter: drop-shadow(0px 1px 2px rgba(0, 0, 0, 0.3));\n",
              "      fill: #FFFFFF;\n",
              "    }\n",
              "  </style>\n",
              "\n",
              "    <script>\n",
              "      const buttonEl =\n",
              "        document.querySelector('#df-b1474271-fd9f-425d-a8e1-0a8360635053 button.colab-df-convert');\n",
              "      buttonEl.style.display =\n",
              "        google.colab.kernel.accessAllowed ? 'block' : 'none';\n",
              "\n",
              "      async function convertToInteractive(key) {\n",
              "        const element = document.querySelector('#df-b1474271-fd9f-425d-a8e1-0a8360635053');\n",
              "        const dataTable =\n",
              "          await google.colab.kernel.invokeFunction('convertToInteractive',\n",
              "                                                    [key], {});\n",
              "        if (!dataTable) return;\n",
              "\n",
              "        const docLinkHtml = 'Like what you see? Visit the ' +\n",
              "          '<a target=\"_blank\" href=https://colab.research.google.com/notebooks/data_table.ipynb>data table notebook</a>'\n",
              "          + ' to learn more about interactive tables.';\n",
              "        element.innerHTML = '';\n",
              "        dataTable['output_type'] = 'display_data';\n",
              "        await google.colab.output.renderOutput(dataTable, element);\n",
              "        const docLink = document.createElement('div');\n",
              "        docLink.innerHTML = docLinkHtml;\n",
              "        element.appendChild(docLink);\n",
              "      }\n",
              "    </script>\n",
              "  </div>\n",
              "\n",
              "\n",
              "<div id=\"df-48562142-8238-452c-9bb5-80aff07a6582\">\n",
              "  <button class=\"colab-df-quickchart\" onclick=\"quickchart('df-48562142-8238-452c-9bb5-80aff07a6582')\"\n",
              "            title=\"Suggest charts.\"\n",
              "            style=\"display:none;\">\n",
              "\n",
              "<svg xmlns=\"http://www.w3.org/2000/svg\" height=\"24px\"viewBox=\"0 0 24 24\"\n",
              "     width=\"24px\">\n",
              "    <g>\n",
              "        <path d=\"M19 3H5c-1.1 0-2 .9-2 2v14c0 1.1.9 2 2 2h14c1.1 0 2-.9 2-2V5c0-1.1-.9-2-2-2zM9 17H7v-7h2v7zm4 0h-2V7h2v10zm4 0h-2v-4h2v4z\"/>\n",
              "    </g>\n",
              "</svg>\n",
              "  </button>\n",
              "\n",
              "<style>\n",
              "  .colab-df-quickchart {\n",
              "      --bg-color: #E8F0FE;\n",
              "      --fill-color: #1967D2;\n",
              "      --hover-bg-color: #E2EBFA;\n",
              "      --hover-fill-color: #174EA6;\n",
              "      --disabled-fill-color: #AAA;\n",
              "      --disabled-bg-color: #DDD;\n",
              "  }\n",
              "\n",
              "  [theme=dark] .colab-df-quickchart {\n",
              "      --bg-color: #3B4455;\n",
              "      --fill-color: #D2E3FC;\n",
              "      --hover-bg-color: #434B5C;\n",
              "      --hover-fill-color: #FFFFFF;\n",
              "      --disabled-bg-color: #3B4455;\n",
              "      --disabled-fill-color: #666;\n",
              "  }\n",
              "\n",
              "  .colab-df-quickchart {\n",
              "    background-color: var(--bg-color);\n",
              "    border: none;\n",
              "    border-radius: 50%;\n",
              "    cursor: pointer;\n",
              "    display: none;\n",
              "    fill: var(--fill-color);\n",
              "    height: 32px;\n",
              "    padding: 0;\n",
              "    width: 32px;\n",
              "  }\n",
              "\n",
              "  .colab-df-quickchart:hover {\n",
              "    background-color: var(--hover-bg-color);\n",
              "    box-shadow: 0 1px 2px rgba(60, 64, 67, 0.3), 0 1px 3px 1px rgba(60, 64, 67, 0.15);\n",
              "    fill: var(--button-hover-fill-color);\n",
              "  }\n",
              "\n",
              "  .colab-df-quickchart-complete:disabled,\n",
              "  .colab-df-quickchart-complete:disabled:hover {\n",
              "    background-color: var(--disabled-bg-color);\n",
              "    fill: var(--disabled-fill-color);\n",
              "    box-shadow: none;\n",
              "  }\n",
              "\n",
              "  .colab-df-spinner {\n",
              "    border: 2px solid var(--fill-color);\n",
              "    border-color: transparent;\n",
              "    border-bottom-color: var(--fill-color);\n",
              "    animation:\n",
              "      spin 1s steps(1) infinite;\n",
              "  }\n",
              "\n",
              "  @keyframes spin {\n",
              "    0% {\n",
              "      border-color: transparent;\n",
              "      border-bottom-color: var(--fill-color);\n",
              "      border-left-color: var(--fill-color);\n",
              "    }\n",
              "    20% {\n",
              "      border-color: transparent;\n",
              "      border-left-color: var(--fill-color);\n",
              "      border-top-color: var(--fill-color);\n",
              "    }\n",
              "    30% {\n",
              "      border-color: transparent;\n",
              "      border-left-color: var(--fill-color);\n",
              "      border-top-color: var(--fill-color);\n",
              "      border-right-color: var(--fill-color);\n",
              "    }\n",
              "    40% {\n",
              "      border-color: transparent;\n",
              "      border-right-color: var(--fill-color);\n",
              "      border-top-color: var(--fill-color);\n",
              "    }\n",
              "    60% {\n",
              "      border-color: transparent;\n",
              "      border-right-color: var(--fill-color);\n",
              "    }\n",
              "    80% {\n",
              "      border-color: transparent;\n",
              "      border-right-color: var(--fill-color);\n",
              "      border-bottom-color: var(--fill-color);\n",
              "    }\n",
              "    90% {\n",
              "      border-color: transparent;\n",
              "      border-bottom-color: var(--fill-color);\n",
              "    }\n",
              "  }\n",
              "</style>\n",
              "\n",
              "  <script>\n",
              "    async function quickchart(key) {\n",
              "      const quickchartButtonEl =\n",
              "        document.querySelector('#' + key + ' button');\n",
              "      quickchartButtonEl.disabled = true;  // To prevent multiple clicks.\n",
              "      quickchartButtonEl.classList.add('colab-df-spinner');\n",
              "      try {\n",
              "        const charts = await google.colab.kernel.invokeFunction(\n",
              "            'suggestCharts', [key], {});\n",
              "      } catch (error) {\n",
              "        console.error('Error during call to suggestCharts:', error);\n",
              "      }\n",
              "      quickchartButtonEl.classList.remove('colab-df-spinner');\n",
              "      quickchartButtonEl.classList.add('colab-df-quickchart-complete');\n",
              "    }\n",
              "    (() => {\n",
              "      let quickchartButtonEl =\n",
              "        document.querySelector('#df-48562142-8238-452c-9bb5-80aff07a6582 button');\n",
              "      quickchartButtonEl.style.display =\n",
              "        google.colab.kernel.accessAllowed ? 'block' : 'none';\n",
              "    })();\n",
              "  </script>\n",
              "</div>\n",
              "    </div>\n",
              "  </div>\n"
            ],
            "text/plain": [
              "   trip_duration  distance_traveled  num_of_passengers  fare  tip  \\\n",
              "0            748                  2                  1    75   24   \n",
              "1           1187                  3                  1   105   24   \n",
              "2            730                  3                  1    71    0   \n",
              "3            671                  5                  3    90    0   \n",
              "4            329                  2                  1    45   12   \n",
              "\n",
              "   miscellaneous_fees  total_fare  surge_applied  \n",
              "0                   6         105              0  \n",
              "1                  13         142              0  \n",
              "2                  26          97              1  \n",
              "3                   9          99              0  \n",
              "4                  13          70              0  "
            ]
          },
          "execution_count": 72,
          "metadata": {},
          "output_type": "execute_result"
        }
      ],
      "source": [
        "#here we can see the fare and total_fare more or less same so we can doro fare\n",
        "df.head()"
      ]
    },
    {
      "cell_type": "code",
      "execution_count": 73,
      "metadata": {
        "id": "TYUX68kvGwaY"
      },
      "outputs": [],
      "source": [
        "#total_fare is a target variable\n",
        "#now we are going to build the model\n",
        "#df=df.drop(columns=['total_fare'])\n",
        "y=df['total_fare']\n",
        "df=df.drop(columns=['total_fare'])\n",
        "x=df"
      ]
    },
    {
      "cell_type": "code",
      "execution_count": 74,
      "metadata": {
        "id": "IYbIk_cHH4en"
      },
      "outputs": [],
      "source": [
        "x=df.loc[:,'trip_duration':'surge_applied']\n",
        "y\n",
        "x_train,x_test,y_train,y_test=train_test_split(x,y,test_size=0.2,random_state=40)"
      ]
    },
    {
      "cell_type": "code",
      "execution_count": 75,
      "metadata": {
        "id": "9AvCQbuQJeKk"
      },
      "outputs": [],
      "source": [
        "#scaling the data\n",
        "scaler=StandardScaler()\n",
        "x_train=scaler.fit_transform(x_train)\n",
        "x_test=scaler.transform(x_test)"
      ]
    },
    {
      "cell_type": "code",
      "execution_count": 76,
      "metadata": {
        "colab": {
          "base_uri": "https://localhost:8080/"
        },
        "id": "4LP07TR-NQRI",
        "outputId": "fdcb5161-ccbc-4e0f-d395-f97e86095692"
      },
      "outputs": [
        {
          "name": "stdout",
          "output_type": "stream",
          "text": [
            "127.49054477816595\n",
            "[-5.13193650e-02 -1.55257332e+00  1.56708967e-01  8.92203215e+01\n",
            "  1.64591816e+01  1.40459381e+01 -1.69239392e+00]\n"
          ]
        }
      ],
      "source": [
        "#linear regression - y=m*x+c\n",
        "lr = LinearRegression()\n",
        "lr.fit(x_train,y_train)\n",
        "print(lr.intercept_)  # c value\n",
        "print(lr.coef_) #m value(feature)"
      ]
    },
    {
      "cell_type": "code",
      "execution_count": 77,
      "metadata": {
        "colab": {
          "base_uri": "https://localhost:8080/"
        },
        "id": "1Ojy822vwKXK",
        "outputId": "21b91a3b-c418-4c3f-aa6e-0a3d15ffac0c"
      },
      "outputs": [
        {
          "name": "stderr",
          "output_type": "stream",
          "text": [
            "/usr/local/lib/python3.10/dist-packages/sklearn/base.py:432: UserWarning: X has feature names, but LinearRegression was fitted without feature names\n",
            "  warnings.warn(\n"
          ]
        },
        {
          "data": {
            "text/plain": [
              "array([ 7256.97531964, 10007.82475639,  6783.67121993, ...,\n",
              "        5800.39463167,  5278.27949747, 30020.44097675])"
            ]
          },
          "execution_count": 77,
          "metadata": {},
          "output_type": "execute_result"
        }
      ],
      "source": [
        "#feature prediction\n",
        "lr.predict(x)"
      ]
    },
    {
      "cell_type": "code",
      "execution_count": 78,
      "metadata": {
        "colab": {
          "base_uri": "https://localhost:8080/"
        },
        "id": "-bl9aRIeunjC",
        "outputId": "fd30ad6c-73bd-4fb4-ab38-e534c57cbc05"
      },
      "outputs": [
        {
          "name": "stdout",
          "output_type": "stream",
          "text": [
            "[ 41.517985    75.16965566  55.74539557 ... 143.75408482  68.48754406\n",
            "  94.28690671]\n",
            "[287.07475042  71.79144668 178.31503307 ... 203.00919925  93.54797067\n",
            "  99.24644735]\n"
          ]
        }
      ],
      "source": [
        "#predict the entire data\n",
        "x_predict=lr.predict(x_train)\n",
        "print(x_predict)\n",
        "y_predict=lr.predict(x_test)\n",
        "print(y_predict)"
      ]
    },
    {
      "cell_type": "code",
      "execution_count": 79,
      "metadata": {
        "colab": {
          "base_uri": "https://localhost:8080/"
        },
        "id": "QKiP8XUuwqgB",
        "outputId": "9c2fd0c0-4943-43c8-f469-e3cb594f4166"
      },
      "outputs": [
        {
          "name": "stdout",
          "output_type": "stream",
          "text": [
            "r2 score: 0.9840915365535613\n"
          ]
        }
      ],
      "source": [
        "#evaluation metric - r2 square\n",
        "print('r2 score:',r2_score(y_test,y_predict))"
      ]
    },
    {
      "cell_type": "code",
      "execution_count": 80,
      "metadata": {
        "colab": {
          "base_uri": "https://localhost:8080/"
        },
        "id": "zzinf4qp7Zc9",
        "outputId": "d6084f8d-54b0-45c1-be29-fcc09d67a595"
      },
      "outputs": [
        {
          "name": "stdout",
          "output_type": "stream",
          "text": [
            "Root Mean Square Error (RMSE) - train: 11.604572566317296\n",
            "Root Mean Square Error (RMSE) - test: 11.98182159139812\n"
          ]
        }
      ],
      "source": [
        "#rmse value for linear regression\n",
        "train_rmse=np.sqrt(mean_squared_error(y_train,x_predict))\n",
        "print(\"Root Mean Square Error (RMSE) - train:\", train_rmse)\n",
        "test_rmse = np.sqrt(mean_squared_error(y_test, y_predict))\n",
        "print(\"Root Mean Square Error (RMSE) - test:\", test_rmse)"
      ]
    },
    {
      "cell_type": "code",
      "execution_count": 81,
      "metadata": {
        "colab": {
          "base_uri": "https://localhost:8080/"
        },
        "id": "jhQlSvvSxVZT",
        "outputId": "5267b752-5cce-4f60-e8db-59ecfcf8747a"
      },
      "outputs": [
        {
          "name": "stdout",
          "output_type": "stream",
          "text": [
            "k_value: 1 score: 0.972466950685343\n",
            "k_value: 2 score: 0.9810318645480681\n",
            "k_value: 3 score: 0.9828156222635208\n",
            "k_value: 4 score: 0.98357263776735\n",
            "k_value: 5 score: 0.9835103104665655\n",
            "k_value: 6 score: 0.9833874168525061\n",
            "k_value: 7 score: 0.9832128906557701\n",
            "k_value: 8 score: 0.9831288567228604\n",
            "k_value: 9 score: 0.9829362558854763\n",
            "k_value: 10 score: 0.982471225141977\n",
            "k_value: 15 score: 0.9801740699142568\n",
            "k_value: 20 score: 0.9778792969783972\n"
          ]
        }
      ],
      "source": [
        "#knn algorithm\n",
        "for i in [1,2,3,4,5,6,7,8,9,10,15,20]:\n",
        "  knn=KNeighborsRegressor(n_neighbors=i)\n",
        "  knn.fit(x_train,y_train)\n",
        "  print('k_value:',i,'score:',np.mean(cross_val_score(knn,x_train,y_train,cv=10)))"
      ]
    },
    {
      "cell_type": "code",
      "execution_count": 82,
      "metadata": {
        "colab": {
          "base_uri": "https://localhost:8080/"
        },
        "id": "0Jv9d4NzxVcZ",
        "outputId": "f8eb19fc-3715-4e0e-ff32-2f296aa41986"
      },
      "outputs": [
        {
          "name": "stdout",
          "output_type": "stream",
          "text": [
            "[ 43.    74.    58.   ... 143.95  69.    92.  ]\n",
            "[280.55  74.9  175.   ... 204.1   92.    93.75]\n"
          ]
        }
      ],
      "source": [
        "#here we can see the the k=4 is the best value becasue after 4 it start reducing so we choose 4 as a best value\n",
        "#train\n",
        "x_pred1=knn.predict(x_train)\n",
        "print(x_pred1)\n",
        "#test\n",
        "y_pred1=knn.predict(x_test)\n",
        "print(y_pred1)"
      ]
    },
    {
      "cell_type": "code",
      "execution_count": 83,
      "metadata": {
        "colab": {
          "base_uri": "https://localhost:8080/"
        },
        "id": "zv6OYPm20Pjd",
        "outputId": "00b21a3c-bc68-4679-9e87-40816c575986"
      },
      "outputs": [
        {
          "name": "stdout",
          "output_type": "stream",
          "text": [
            "r2 score: 0.9781890492003346\n"
          ]
        }
      ],
      "source": [
        "#evaluation matric for knn r2 score\n",
        "print('r2 score:',r2_score(y_test,y_pred1))"
      ]
    },
    {
      "cell_type": "code",
      "execution_count": 84,
      "metadata": {
        "colab": {
          "base_uri": "https://localhost:8080/"
        },
        "id": "n_YY56uG7OlS",
        "outputId": "842648df-a482-42f0-f664-b473302f0088"
      },
      "outputs": [
        {
          "name": "stdout",
          "output_type": "stream",
          "text": [
            "Root Mean Square Error (RMSE): 13.730323529545664\n",
            "Root Mean Square Error (RMSE): 14.029623955641563\n"
          ]
        }
      ],
      "source": [
        "#rmse value knn algorithm\n",
        "#train\n",
        "train_rmse1=np.sqrt(mean_squared_error(y_train, x_pred1))\n",
        "print(\"Root Mean Square Error (RMSE):\",train_rmse1)\n",
        "#test\n",
        "test_rmse1 = np.sqrt(mean_squared_error(y_test, y_pred1))\n",
        "print(\"Root Mean Square Error (RMSE):\", test_rmse1)"
      ]
    },
    {
      "cell_type": "code",
      "execution_count": 85,
      "metadata": {
        "colab": {
          "base_uri": "https://localhost:8080/"
        },
        "id": "GpmykkDL2kfj",
        "outputId": "4fa12930-6f22-4d12-9f0d-58a4bf92150f"
      },
      "outputs": [
        {
          "name": "stdout",
          "output_type": "stream",
          "text": [
            "Depth: 1 cross_val_score: 0.48898953674219536\n",
            "Depth: 2 cross_val_score: 0.7350374000758608\n",
            "Depth: 3 cross_val_score: 0.8687383314236762\n",
            "Depth: 4 cross_val_score: 0.931410668393554\n",
            "Depth: 5 cross_val_score: 0.9560701140960861\n",
            "Depth: 6 cross_val_score: 0.9681817570251564\n",
            "Depth: 7 cross_val_score: 0.9745024559063845\n",
            "Depth: 8 cross_val_score: 0.9785640722867026\n",
            "Depth: 9 cross_val_score: 0.9795912155826609\n",
            "Depth: 10 cross_val_score: 0.9796062348726198\n",
            "Depth: 15 cross_val_score: 0.9784482476711529\n",
            "Depth: 20 cross_val_score: 0.9781187516756173\n"
          ]
        }
      ],
      "source": [
        "#decision tree\n",
        "for i in [1,2,3,4,5,6,7,8,9,10,15,20]:\n",
        "  dt=DecisionTreeRegressor(max_depth=i)\n",
        "  dt.fit(x_train,y_train)\n",
        "  val_accuracy=cross_val_score(dt,x_train,y_train,cv=10)\n",
        "  print('Depth:',i,'cross_val_score:',np.mean(val_accuracy))"
      ]
    },
    {
      "cell_type": "code",
      "execution_count": 86,
      "metadata": {
        "colab": {
          "base_uri": "https://localhost:8080/"
        },
        "id": "GXlVgQrR4aEk",
        "outputId": "ca6deb1b-2e15-4088-fab5-628abfba0a1a"
      },
      "outputs": [
        {
          "name": "stdout",
          "output_type": "stream",
          "text": [
            "[ 43.  74.  58. ... 144.  69.  92.]\n",
            "[261.  71. 175. ... 204.  92.  97.]\n"
          ]
        }
      ],
      "source": [
        "#train\n",
        "x_pred2=dt.predict(x_train)\n",
        "print(x_pred2)\n",
        "#test\n",
        "y_pred2=dt.predict(x_test)\n",
        "print(y_pred2)"
      ]
    },
    {
      "cell_type": "code",
      "execution_count": 87,
      "metadata": {
        "colab": {
          "base_uri": "https://localhost:8080/"
        },
        "id": "WcicKuwJ4I8K",
        "outputId": "8cba1c9b-bbf3-4d72-ae64-081fae74a843"
      },
      "outputs": [
        {
          "name": "stdout",
          "output_type": "stream",
          "text": [
            "r2 score: 0.9691037737592376\n"
          ]
        }
      ],
      "source": [
        "#depth 10 is the best value for max_depth because after 10 the cross val score is decreasing\n",
        "#evaluation matrix\n",
        "print('r2 score:',r2_score(y_test,y_pred2))"
      ]
    },
    {
      "cell_type": "code",
      "execution_count": 88,
      "metadata": {
        "colab": {
          "base_uri": "https://localhost:8080/"
        },
        "id": "9apNdn7T7hxC",
        "outputId": "7ab63ea3-96c8-4a95-f1c0-a0b23404ce33"
      },
      "outputs": [
        {
          "name": "stdout",
          "output_type": "stream",
          "text": [
            "Root Mean Square Error (RMSE) - test: 0.8600188620288243\n",
            "Root Mean Square Error (RMSE) - test: 16.697884388449424\n"
          ]
        }
      ],
      "source": [
        "#rmse value for decession tree\n",
        "#train\n",
        "train_rmse2 = np.sqrt(mean_squared_error(y_train, x_pred2))\n",
        "print(\"Root Mean Square Error (RMSE) - test:\", train_rmse2)\n",
        "#test\n",
        "test_rmse2 = np.sqrt(mean_squared_error(y_test, y_pred2))\n",
        "print(\"Root Mean Square Error (RMSE) - test:\", test_rmse2)"
      ]
    },
    {
      "cell_type": "code",
      "execution_count": 89,
      "metadata": {
        "colab": {
          "base_uri": "https://localhost:8080/"
        },
        "id": "67miP7aZ4pNm",
        "outputId": "5dae5199-e154-40c6-eee0-0543ff00795c"
      },
      "outputs": [
        {
          "name": "stdout",
          "output_type": "stream",
          "text": [
            "n_estmator_value: 1 cross_val_score: 0.9770638249795913\n",
            "n_estmator_value: 2 cross_val_score: 0.9806070913990805\n",
            "n_estmator_value: 3 cross_val_score: 0.9818231479137067\n",
            "n_estmator_value: 4 cross_val_score: 0.9832628438323704\n",
            "n_estmator_value: 5 cross_val_score: 0.9848666932681296\n",
            "n_estmator_value: 6 cross_val_score: 0.9850489230490332\n",
            "n_estmator_value: 7 cross_val_score: 0.9842866195802653\n",
            "n_estmator_value: 8 cross_val_score: 0.9844320899805844\n",
            "n_estmator_value: 9 cross_val_score: 0.983886438859068\n",
            "n_estmator_value: 10 cross_val_score: 0.9847240289477485\n",
            "n_estmator_value: 15 cross_val_score: 0.98460147077041\n",
            "n_estmator_value: 20 cross_val_score: 0.9841289393583059\n"
          ]
        }
      ],
      "source": [
        "#random forest algorithm\n",
        "for i in [1,2,3,4,5,6,7,8,9,10,15,20]:\n",
        "  rf=RandomForestRegressor(n_estimators=i)\n",
        "  rf.fit(x_train,y_train)\n",
        "  val_accuracy1=cross_val_score(rf,x_train,y_train,cv=10)\n",
        "  print('n_estmator_value:',i,'cross_val_score:',np.mean(val_accuracy1))\n"
      ]
    },
    {
      "cell_type": "code",
      "execution_count": 90,
      "metadata": {
        "id": "WHYPhtHnEC_-"
      },
      "outputs": [],
      "source": [
        "#here we can see n_estmator_value: 8 is the best value"
      ]
    },
    {
      "cell_type": "code",
      "execution_count": 91,
      "metadata": {
        "colab": {
          "base_uri": "https://localhost:8080/"
        },
        "id": "QnJgZum_B6l5",
        "outputId": "b006b3b4-9e8e-4589-f1e7-2a36d51afe68"
      },
      "outputs": [
        {
          "name": "stdout",
          "output_type": "stream",
          "text": [
            "[ 43.  74.  58. ... 144.  69.  92.]\n",
            "[267.7   70.55 175.   ... 204.    92.    97.  ]\n"
          ]
        }
      ],
      "source": [
        "#train\n",
        "x_pred3=rf.predict(x_train)\n",
        "print(x_pred3)\n",
        "#test\n",
        "y_pred3=rf.predict(x_test)\n",
        "print(y_pred3)"
      ]
    },
    {
      "cell_type": "code",
      "execution_count": 92,
      "metadata": {
        "colab": {
          "base_uri": "https://localhost:8080/"
        },
        "id": "oXru30h4DwvD",
        "outputId": "b42ed731-f375-437a-d29a-ea05490edf34"
      },
      "outputs": [
        {
          "name": "stdout",
          "output_type": "stream",
          "text": [
            "r2 score: 0.979952696191641\n"
          ]
        }
      ],
      "source": [
        "#evaluation matrix\n",
        "print('r2 score:',r2_score(y_test,y_pred3))"
      ]
    },
    {
      "cell_type": "code",
      "execution_count": 93,
      "metadata": {
        "colab": {
          "base_uri": "https://localhost:8080/"
        },
        "id": "O9Hb9rho7d_L",
        "outputId": "acd7ecff-0cc7-4e74-ee0f-c676527e6750"
      },
      "outputs": [
        {
          "name": "stdout",
          "output_type": "stream",
          "text": [
            "Root Mean Square Error (RMSE)-train: 4.551690774254178\n",
            "Root Mean Square Error (RMSE)-test: 13.450446998297291\n"
          ]
        }
      ],
      "source": [
        "#rmse value\n",
        "#train\n",
        "train_rmse3 = np.sqrt(mean_squared_error(y_train, x_pred3))\n",
        "print(\"Root Mean Square Error (RMSE)-train:\", train_rmse3)\n",
        "\n",
        "#test\n",
        "test_rmse3 = np.sqrt(mean_squared_error(y_test, y_pred3))\n",
        "print(\"Root Mean Square Error (RMSE)-test:\", test_rmse3)"
      ]
    },
    {
      "cell_type": "code",
      "execution_count": 94,
      "metadata": {
        "colab": {
          "base_uri": "https://localhost:8080/"
        },
        "id": "1VPF7FtWD-Ng",
        "outputId": "02a21a28-7246-4d8f-f605-b4d9930a083d"
      },
      "outputs": [
        {
          "name": "stdout",
          "output_type": "stream",
          "text": [
            "learning_rate: 0.01 Train_score: 0.8028034235664201 cross_val_score: 0.7829794252986824\n",
            "learning_rate: 0.02 Train_score: 0.9086360683639023 cross_val_score: 0.8936688442053333\n",
            "learning_rate: 0.03 Train_score: 0.9209811301996258 cross_val_score: 0.9100393886290297\n",
            "learning_rate: 0.04 Train_score: 0.921381426450974 cross_val_score: 0.9125858662312403\n",
            "learning_rate: 0.05 Train_score: 0.921051150239238 cross_val_score: 0.9133518580969987\n",
            "learning_rate: 0.06 Train_score: 0.9213873934037997 cross_val_score: 0.913593348571189\n",
            "learning_rate: 0.07 Train_score: 0.9206260183702176 cross_val_score: 0.9134322725045184\n",
            "learning_rate: 0.08 Train_score: 0.921181158215399 cross_val_score: 0.9134925557806095\n",
            "learning_rate: 0.09 Train_score: 0.9193084544686152 cross_val_score: 0.9118928844168458\n",
            "learning_rate: 0.01 Train_score: 0.8028034235664201 cross_val_score: 0.7829794252986824\n",
            "learning_rate: 0.1 Train_score: 0.9204813423005038 cross_val_score: 0.912450939814174\n",
            "learning_rate: 0.5 Train_score: 0.9154577105259804 cross_val_score: 0.9018623600842028\n",
            "learning_rate: 0.7 Train_score: 0.9167540505500302 cross_val_score: 0.8985773471765384\n",
            "learning_rate: 1 Train_score: 0.89343946154682 cross_val_score: 0.8953545398486682\n"
          ]
        }
      ],
      "source": [
        "#boosting method\n",
        "for i in [0.01,0.02,0.03,0.04,0.05,0.06,0.07,0.08,0.09,0.01,0.1,0.5,0.7,1]:\n",
        "  model=xgb.XGBRegressor(learning_rate=i,n_estimators=100)\n",
        "  model.fit(x_train,y_train)\n",
        "  #model.score(x_test,y_test)\n",
        "  print('learning_rate:',i,'Train_score:',model.score(x_test,y_test),'cross_val_score:',np.mean(cross_val_score(model,x_train,y_train,cv=10)))\n"
      ]
    },
    {
      "cell_type": "code",
      "execution_count": 95,
      "metadata": {
        "id": "Al01yB5ARJ57"
      },
      "outputs": [],
      "source": [
        "#here the best learning rate is 0.06"
      ]
    },
    {
      "cell_type": "code",
      "execution_count": 96,
      "metadata": {
        "colab": {
          "base_uri": "https://localhost:8080/"
        },
        "id": "CdreysX07qyS",
        "outputId": "d5877f25-9799-40e3-ab6c-b6cb3d7c067d"
      },
      "outputs": [
        {
          "name": "stdout",
          "output_type": "stream",
          "text": [
            "[ 43.168964  73.85232   57.750103 ... 145.96217   69.49617   91.24412 ]\n",
            "[274.15976  71.03275 174.48447 ... 204.30447  93.54841  97.41025]\n"
          ]
        }
      ],
      "source": [
        "#here 0.06 is the best value for boosting algorithm\n",
        "#train\n",
        "x_pred4=model.predict(x_train)\n",
        "print(x_pred4)\n",
        "#test\n",
        "y_pred4=model.predict(x_test)\n",
        "print(y_pred4)"
      ]
    },
    {
      "cell_type": "code",
      "execution_count": 97,
      "metadata": {
        "colab": {
          "base_uri": "https://localhost:8080/"
        },
        "id": "GPjzqT6h8FgN",
        "outputId": "9dacc99c-683c-432e-f98b-a80f91b43dca"
      },
      "outputs": [
        {
          "name": "stdout",
          "output_type": "stream",
          "text": [
            "r2 score: 0.89343946154682\n"
          ]
        }
      ],
      "source": [
        "#evaluation metrix\n",
        "print('r2 score:',r2_score(y_test,y_pred4))"
      ]
    },
    {
      "cell_type": "code",
      "execution_count": 98,
      "metadata": {
        "colab": {
          "base_uri": "https://localhost:8080/"
        },
        "id": "pw5EoKEd8OG5",
        "outputId": "1ba0194a-2b85-4c9c-ea49-b8f8d554ba3e"
      },
      "outputs": [
        {
          "name": "stdout",
          "output_type": "stream",
          "text": [
            "Root Mean Square Error (RMSE) - train: 20.320276915658404\n",
            "Root Mean Square Error (RMSE) - test: 31.010369043431076\n"
          ]
        }
      ],
      "source": [
        "#rmsc for boosting\n",
        "#train\n",
        "train_rmse4 = np.sqrt(mean_squared_error(y_train, x_pred4))\n",
        "print(\"Root Mean Square Error (RMSE) - train:\", train_rmse4)\n",
        "#test\n",
        "test_rmse4 = np.sqrt(mean_squared_error(y_test, y_pred4))\n",
        "print(\"Root Mean Square Error (RMSE) - test:\", test_rmse4)"
      ]
    },
    {
      "cell_type": "code",
      "execution_count": 98,
      "metadata": {
        "id": "XyaHiHLZjEN4"
      },
      "outputs": [],
      "source": [
        "#conclusion\n",
        "#we build 5 model they are linear regression,knn , decision tree, random forest, xbg\n",
        "#Linear regression rmse score\n",
        "   #Root Mean Square Error (RMSE) - train: 11.604572566317296\n",
        "   #Root Mean Square Error (RMSE) - test: 11.98182159139812\n",
        "\n",
        "#knn rmse score\n",
        "   #Root Mean Square Error (RMSE): 13.730323529545664\n",
        "   #Root Mean Square Error (RMSE): 14.029623955641563\n",
        "\n",
        "#decison tree\n",
        "   #Root Mean Square Error (RMSE) - test: 0.8600188620288243\n",
        "   #Root Mean Square Error (RMSE) - test: 16.697884388449424\n",
        "\n",
        "#random forest\n",
        "   #Root Mean Square Error (RMSE)-train: 4.551690774254178\n",
        "   #Root Mean Square Error (RMSE)-test: 13.450446998297291\n",
        "\n",
        "#xgboost\n",
        "   #Root Mean Square Error (RMSE) - train: 20.320276915658404\n",
        "   #Root Mean Square Error (RMSE) - test: 31.010369043431076\n",
        "\n",
        "#from all these model linear regression is the best one because the value of rmse of train and test\n",
        "# is almost equal so we can conside linear is the best one\n"
      ]
    }
  ],
  "metadata": {
    "colab": {
      "provenance": []
    },
    "kernelspec": {
      "display_name": "Python 3",
      "name": "python3"
    },
    "language_info": {
      "name": "python"
    }
  },
  "nbformat": 4,
  "nbformat_minor": 0
}
